{
 "cells": [
  {
   "cell_type": "code",
   "execution_count": 1,
   "metadata": {},
   "outputs": [],
   "source": [
    "import numpy as np\n",
    "import pandas as pd\n",
    "from sklearn.feature_selection import SelectKBest\n",
    "from sklearn.feature_selection import chi2\n",
    "from sklearn.preprocessing import StandardScaler\n",
    "from sklearn.model_selection import train_test_split\n",
    "from sklearn.linear_model import LogisticRegression\n",
    "from sklearn.svm import SVC\n",
    "from sklearn.model_selection import cross_val_score\n"
   ]
  },
  {
   "cell_type": "code",
   "execution_count": 2,
   "metadata": {},
   "outputs": [],
   "source": [
    "df_train=pd.read_csv(\"train.csv\")\n",
    "df_test=pd.read_csv(\"test.csv\")"
   ]
  },
  {
   "cell_type": "code",
   "execution_count": 3,
   "metadata": {},
   "outputs": [
    {
     "name": "stdout",
     "output_type": "stream",
     "text": [
      "Index(['id', 'Label', 'ENSG00000242268.2', 'ENSG00000270112.3',\n",
      "       'ENSG00000167578.15', 'ENSG00000273842.1', 'ENSG00000078237.5',\n",
      "       'ENSG00000146083.10', 'ENSG00000225275.4', 'ENSG00000158486.12',\n",
      "       ...\n",
      "       'ENSG00000238244.3', 'ENSG00000186115.11', 'ENSG00000216352.1',\n",
      "       'ENSG00000267117.1', 'ENSG00000273233.1', 'ENSG00000105063.17',\n",
      "       'ENSG00000231119.2', 'ENSG00000280861.1', 'ENSG00000123685.7',\n",
      "       'ENSG00000181518.3'],\n",
      "      dtype='object', length=60485)\n"
     ]
    }
   ],
   "source": [
    "\n",
    "train_col=df_train.columns\n",
    "print(train_col)"
   ]
  },
  {
   "cell_type": "code",
   "execution_count": 4,
   "metadata": {},
   "outputs": [],
   "source": [
    "import math\n",
    "for column in train_col:\n",
    "    if (column=='id' or column=='Label'):\n",
    "        df_train[column]=df_train[column]\n",
    "    else:\n",
    "#         df_test[column]=df_test[column].astype(float)\n",
    "#         df_train[column]=df_train[column].astype(float)\n",
    "         df_train[column]=np.log2(df_train[column]+1)"
   ]
  },
  {
   "cell_type": "code",
   "execution_count": 5,
   "metadata": {},
   "outputs": [],
   "source": [
    "test_cols=df_test.columns"
   ]
  },
  {
   "cell_type": "code",
   "execution_count": 6,
   "metadata": {},
   "outputs": [],
   "source": [
    "   \n",
    "for column in test_cols:\n",
    "    if (column=='id'):\n",
    "        df_test[column]=df_test[column]\n",
    "    else:\n",
    "        df_test[column]=np.log2(df_test[column]+1)"
   ]
  },
  {
   "cell_type": "code",
   "execution_count": 7,
   "metadata": {},
   "outputs": [],
   "source": [
    "var_train=df_train.loc[:,train_col[2:]].var()"
   ]
  },
  {
   "cell_type": "code",
   "execution_count": 8,
   "metadata": {},
   "outputs": [],
   "source": [
    "temp={}\n",
    "\n",
    "for i in range(2,len(train_col)):\n",
    "    temp[train_col[i]]=var_train[i-2]\n"
   ]
  },
  {
   "cell_type": "code",
   "execution_count": 9,
   "metadata": {},
   "outputs": [],
   "source": [
    "drop_col_after_variance=[]\n",
    "for i in temp:\n",
    "    if temp[i]<0.025:\n",
    "        drop_col_after_variance.append(i)\n"
   ]
  },
  {
   "cell_type": "code",
   "execution_count": 10,
   "metadata": {},
   "outputs": [],
   "source": [
    "df_after_drop_train=df_train.drop(drop_col_after_variance,axis=1, inplace= True)\n",
    "df_after_drop_test=df_test.drop(drop_col_after_variance,axis=1, inplace= True)"
   ]
  },
  {
   "cell_type": "code",
   "execution_count": 11,
   "metadata": {},
   "outputs": [
    {
     "name": "stdout",
     "output_type": "stream",
     "text": [
      "23530\n",
      "Index(['id', 'ENSG00000242268.2', 'ENSG00000167578.15', 'ENSG00000078237.5',\n",
      "       'ENSG00000146083.10', 'ENSG00000172137.17', 'ENSG00000167700.7',\n",
      "       'ENSG00000060642.9', 'ENSG00000182141.8', 'ENSG00000269416.4',\n",
      "       ...\n",
      "       'ENSG00000253333.1', 'ENSG00000146707.13', 'ENSG00000135094.9',\n",
      "       'ENSG00000238300.1', 'ENSG00000203729.7', 'ENSG00000009694.12',\n",
      "       'ENSG00000186115.11', 'ENSG00000105063.17', 'ENSG00000231119.2',\n",
      "       'ENSG00000123685.7'],\n",
      "      dtype='object', length=23529)\n"
     ]
    }
   ],
   "source": [
    "print(len(df_train.columns))\n",
    "train_newc=df_train.columns\n",
    "test_newc=df_test.columns\n",
    "print(test_newc)"
   ]
  },
  {
   "cell_type": "code",
   "execution_count": 12,
   "metadata": {},
   "outputs": [],
   "source": [
    "from sklearn import preprocessing \n",
    "min_max_scaler = preprocessing.MinMaxScaler(feature_range =(0, 1)) \n",
    "# scaled_df_train = min_max_scaler.fit_transform(df_train)\n",
    "scaled_df_test = min_max_scaler.fit_transform(df_test)\n",
    "\n"
   ]
  },
  {
   "cell_type": "code",
   "execution_count": 13,
   "metadata": {},
   "outputs": [
    {
     "name": "stdout",
     "output_type": "stream",
     "text": [
      "\n",
      "After min max Scaling : \n",
      " [0.         0.         0.52284226 ... 0.61244195 0.16442198 0.30478565]\n"
     ]
    }
   ],
   "source": [
    "print (\"\\nAfter min max Scaling : \\n\", scaled_df_test[0])"
   ]
  },
  {
   "cell_type": "code",
   "execution_count": 16,
   "metadata": {},
   "outputs": [
    {
     "name": "stdout",
     "output_type": "stream",
     "text": [
      "\n",
      "After min max Scaling : \n",
      " [[0.         0.         0.52284226 ... 0.61244195 0.16442198 0.30478565]\n",
      " [0.01428571 0.19382908 0.62290016 ... 0.73156455 0.30651927 0.322804  ]\n",
      " [0.02857143 0.02334698 0.57941813 ... 0.74851551 0.18014273 0.06927184]\n",
      " ...\n",
      " [0.97142857 0.         0.29351973 ... 0.68912147 0.16219335 0.27639978]\n",
      " [0.98571429 0.         0.99932856 ... 0.83009732 0.46396619 0.45401662]\n",
      " [1.         0.03682752 0.22952675 ... 0.53707463 0.16030565 0.19930665]]\n",
      "\n",
      "After min max Scaling : \n",
      " [[0.67860919 0.69449131 0.5895407  ... 0.8062757  0.01322989 0.84018786]\n",
      " [0.         0.30315464 0.27674461 ... 0.83188483 0.23765982 0.12622318]\n",
      " [0.         0.20876788 0.57524338 ... 0.60932618 0.1766162  0.26308282]\n",
      " ...\n",
      " [0.         0.22470112 0.59355616 ... 0.62110777 0.10187    0.06759435]\n",
      " [0.         0.4337966  0.46759727 ... 0.53130371 0.16232231 0.18765424]\n",
      " [0.         0.19346217 0.53880659 ... 0.58293568 0.41473421 0.15425069]]\n"
     ]
    }
   ],
   "source": [
    "print (\"\\nAfter min max Scaling : \\n\", scaled_df_test)\n",
    "x = df_train[train_newc[2:]].values\n",
    "scaled_df_train = min_max_scaler.fit_transform(x)\n",
    "print (\"\\nAfter min max Scaling : \\n\", scaled_df_train)"
   ]
  },
  {
   "cell_type": "code",
   "execution_count": 19,
   "metadata": {},
   "outputs": [
    {
     "name": "stdout",
     "output_type": "stream",
     "text": [
      "                    Specs      Score\n",
      "9101   ENSG00000107159.11  26.247872\n",
      "14738  ENSG00000181577.14  18.505226\n",
      "8121   ENSG00000170381.11  18.032017\n",
      "10990   ENSG00000133636.9  17.544432\n",
      "15937  ENSG00000158516.10  17.317291\n",
      "...                   ...        ...\n",
      "167    ENSG00000105048.15   9.115793\n",
      "20813  ENSG00000006611.14   9.098489\n",
      "4752    ENSG00000163082.9   9.068913\n",
      "1505    ENSG00000269353.1   8.982950\n",
      "22354  ENSG00000149452.14   8.955489\n",
      "\n",
      "[100 rows x 2 columns]\n"
     ]
    }
   ],
   "source": [
    "X = df_train.iloc[:,2:23530]  #independent columns\n",
    "y = df_train.iloc[:,1]    #target column i.e price range\n",
    "#apply SelectKBest class to extract top 10 best features\n",
    "bestfeatures = SelectKBest(score_func=chi2, k=100)\n",
    "fit = bestfeatures.fit(X,y)\n",
    "dfscores = pd.DataFrame(fit.scores_)\n",
    "dfcolumns = pd.DataFrame(X.columns)\n",
    "#concat two dataframes for better visualization \n",
    "featureScores = pd.concat([dfcolumns,dfscores],axis=1)\n",
    "featureScores.columns = ['Specs','Score']  #naming the dataframe columns\n",
    "print(featureScores.nlargest(100,'Score')) "
   ]
  },
  {
   "cell_type": "markdown",
   "metadata": {},
   "source": [
    " "
   ]
  },
  {
   "cell_type": "code",
   "execution_count": 20,
   "metadata": {},
   "outputs": [],
   "source": [
    "imp=featureScores.nlargest(100,'Score')\n",
    "imp_feat=imp[\"Specs\"]\n",
    "imp_cols=[]\n",
    "for i in range(len(imp_feat)):\n",
    "    imp_cols.append(imp_feat.iloc[i])\n"
   ]
  },
  {
   "cell_type": "code",
   "execution_count": 21,
   "metadata": {},
   "outputs": [],
   "source": [
    "cols_drop1= list(set(train_newc).difference(set(imp_cols)))"
   ]
  },
  {
   "cell_type": "code",
   "execution_count": 22,
   "metadata": {},
   "outputs": [
    {
     "name": "stdout",
     "output_type": "stream",
     "text": [
      "Label\n",
      "id\n"
     ]
    }
   ],
   "source": [
    "# print(cols_drop1)\n",
    "cols_drop_final=[]\n",
    "for i in cols_drop1:\n",
    "    if i ==\"id\" or i==\"Label\":\n",
    "        print(i)\n",
    "    else:\n",
    "        cols_drop_final.append(i)"
   ]
  },
  {
   "cell_type": "code",
   "execution_count": 24,
   "metadata": {},
   "outputs": [],
   "source": [
    "df_after_drop_train1=df_train.drop(cols_drop_final,axis=1, inplace= True)\n",
    "df_after_drop_test1=df_test.drop(cols_drop_final,axis=1, inplace= True)\n",
    "        "
   ]
  },
  {
   "cell_type": "code",
   "execution_count": 25,
   "metadata": {},
   "outputs": [
    {
     "name": "stdout",
     "output_type": "stream",
     "text": [
      "Index(['id', 'Label', 'ENSG00000105048.15', 'ENSG00000149124.9',\n",
      "       'ENSG00000269353.1', 'ENSG00000253417.4', 'ENSG00000069011.14',\n",
      "       'ENSG00000228952.1', 'ENSG00000239093.1', 'ENSG00000072041.15',\n",
      "       ...\n",
      "       'ENSG00000196188.9', 'ENSG00000184349.11', 'ENSG00000214748.2',\n",
      "       'ENSG00000185519.8', 'ENSG00000149452.14', 'ENSG00000145826.7',\n",
      "       'ENSG00000162078.10', 'ENSG00000100604.11', 'ENSG00000251985.1',\n",
      "       'ENSG00000224525.2'],\n",
      "      dtype='object', length=102)\n"
     ]
    }
   ],
   "source": [
    "ftrain_col=df_train.columns\n",
    "print(ftrain_col)"
   ]
  },
  {
   "cell_type": "code",
   "execution_count": 26,
   "metadata": {},
   "outputs": [
    {
     "name": "stdout",
     "output_type": "stream",
     "text": [
      "['ENSG00000105048.15', 'ENSG00000149124.9', 'ENSG00000269353.1', 'ENSG00000253417.4', 'ENSG00000069011.14', 'ENSG00000228952.1', 'ENSG00000239093.1', 'ENSG00000072041.15', 'ENSG00000114529.11', 'ENSG00000016402.11', 'ENSG00000226141.1', 'ENSG00000088836.11', 'ENSG00000159184.7', 'ENSG00000234311.1', 'ENSG00000088002.10', 'ENSG00000260196.1', 'ENSG00000089356.15', 'ENSG00000122711.7', 'ENSG00000177679.15', 'ENSG00000102109.8', 'ENSG00000136943.9', 'ENSG00000144366.14', 'ENSG00000163082.9', 'ENSG00000117983.16', 'ENSG00000167771.5', 'ENSG00000165023.5', 'ENSG00000185686.16', 'ENSG00000157765.10', 'ENSG00000204060.5', 'ENSG00000007306.13', 'ENSG00000170381.11', 'ENSG00000006659.11', 'ENSG00000140274.12', 'ENSG00000074211.12', 'ENSG00000210741.1', 'ENSG00000107159.11', 'ENSG00000106541.10', 'ENSG00000169297.7', 'ENSG00000154646.7', 'ENSG00000109758.7', 'ENSG00000160182.2', 'ENSG00000256310.1', 'ENSG00000140107.10', 'ENSG00000133636.9', 'ENSG00000206878.1', 'ENSG00000267795.4', 'ENSG00000140279.11', 'ENSG00000130822.14', 'ENSG00000232524.1', 'ENSG00000169059.11', 'ENSG00000230432.1', 'ENSG00000007350.15', 'ENSG00000170577.7', 'ENSG00000114631.10', 'ENSG00000079112.8', 'ENSG00000106236.3', 'ENSG00000160181.7', 'ENSG00000129195.14', 'ENSG00000181577.14', 'ENSG00000166959.6', 'ENSG00000105290.10', 'ENSG00000205866.3', 'ENSG00000166670.8', 'ENSG00000158516.10', 'ENSG00000261116.1', 'ENSG00000143595.11', 'ENSG00000141934.8', 'ENSG00000171517.5', 'ENSG00000182379.9', 'ENSG00000132746.13', 'ENSG00000130720.11', 'ENSG00000168243.9', 'ENSG00000171246.5', 'ENSG00000170689.9', 'ENSG00000167910.3', 'ENSG00000171004.16', 'ENSG00000187908.14', 'ENSG00000198077.9', 'ENSG00000159650.7', 'ENSG00000103534.15', 'ENSG00000105427.8', 'ENSG00000256612.6', 'ENSG00000072080.9', 'ENSG00000006611.14', 'ENSG00000092445.10', 'ENSG00000130427.2', 'ENSG00000188064.8', 'ENSG00000159399.8', 'ENSG00000267015.1', 'ENSG00000186193.8', 'ENSG00000196188.9', 'ENSG00000184349.11', 'ENSG00000214748.2', 'ENSG00000185519.8', 'ENSG00000149452.14', 'ENSG00000145826.7', 'ENSG00000162078.10', 'ENSG00000100604.11', 'ENSG00000251985.1', 'ENSG00000224525.2']\n"
     ]
    }
   ],
   "source": [
    "independent_attri=[]\n",
    "for i in range(2,len(ftrain_col)):\n",
    "    independent_attri.append(ftrain_col[i])\n",
    "print(independent_attri)"
   ]
  },
  {
   "cell_type": "code",
   "execution_count": 33,
   "metadata": {},
   "outputs": [
    {
     "name": "stdout",
     "output_type": "stream",
     "text": [
      "['ENSG00000105048.15', 'ENSG00000149124.9', 'ENSG00000269353.1', 'ENSG00000253417.4', 'ENSG00000069011.14', 'ENSG00000228952.1', 'ENSG00000239093.1', 'ENSG00000072041.15', 'ENSG00000114529.11', 'ENSG00000016402.11', 'ENSG00000226141.1', 'ENSG00000088836.11', 'ENSG00000159184.7', 'ENSG00000234311.1', 'ENSG00000088002.10', 'ENSG00000260196.1', 'ENSG00000089356.15', 'ENSG00000122711.7', 'ENSG00000177679.15', 'ENSG00000102109.8', 'ENSG00000136943.9', 'ENSG00000144366.14', 'ENSG00000163082.9', 'ENSG00000117983.16', 'ENSG00000167771.5', 'ENSG00000165023.5', 'ENSG00000185686.16', 'ENSG00000157765.10', 'ENSG00000204060.5', 'ENSG00000007306.13', 'ENSG00000170381.11', 'ENSG00000006659.11', 'ENSG00000140274.12', 'ENSG00000074211.12', 'ENSG00000210741.1', 'ENSG00000107159.11', 'ENSG00000106541.10', 'ENSG00000169297.7', 'ENSG00000154646.7', 'ENSG00000109758.7', 'ENSG00000160182.2', 'ENSG00000256310.1', 'ENSG00000140107.10', 'ENSG00000133636.9', 'ENSG00000206878.1', 'ENSG00000267795.4', 'ENSG00000140279.11', 'ENSG00000130822.14', 'ENSG00000232524.1', 'ENSG00000169059.11', 'ENSG00000230432.1', 'ENSG00000007350.15', 'ENSG00000170577.7', 'ENSG00000114631.10', 'ENSG00000079112.8', 'ENSG00000106236.3', 'ENSG00000160181.7', 'ENSG00000129195.14', 'ENSG00000181577.14', 'ENSG00000166959.6', 'ENSG00000105290.10', 'ENSG00000205866.3', 'ENSG00000166670.8', 'ENSG00000158516.10', 'ENSG00000261116.1', 'ENSG00000143595.11', 'ENSG00000141934.8', 'ENSG00000171517.5', 'ENSG00000182379.9', 'ENSG00000132746.13', 'ENSG00000130720.11', 'ENSG00000168243.9', 'ENSG00000171246.5', 'ENSG00000170689.9', 'ENSG00000167910.3', 'ENSG00000171004.16', 'ENSG00000187908.14', 'ENSG00000198077.9', 'ENSG00000159650.7', 'ENSG00000103534.15', 'ENSG00000105427.8', 'ENSG00000256612.6', 'ENSG00000072080.9', 'ENSG00000006611.14', 'ENSG00000092445.10', 'ENSG00000130427.2', 'ENSG00000188064.8', 'ENSG00000159399.8', 'ENSG00000267015.1', 'ENSG00000186193.8', 'ENSG00000196188.9', 'ENSG00000184349.11', 'ENSG00000214748.2', 'ENSG00000185519.8', 'ENSG00000149452.14', 'ENSG00000145826.7', 'ENSG00000162078.10', 'ENSG00000100604.11', 'ENSG00000251985.1', 'ENSG00000224525.2']\n"
     ]
    }
   ],
   "source": [
    "ftest_col=df_test.columns\n",
    "\n",
    "independent_attri_test=[]\n",
    "for i in range(1,len(ftest_col)):\n",
    "    independent_attri_test.append(ftest_col[i])\n",
    "print(independent_attri_test)"
   ]
  },
  {
   "cell_type": "code",
   "execution_count": 34,
   "metadata": {},
   "outputs": [],
   "source": [
    "test_data=df_test[ftest_col]\n"
   ]
  },
  {
   "cell_type": "code",
   "execution_count": 35,
   "metadata": {},
   "outputs": [
    {
     "name": "stdout",
     "output_type": "stream",
     "text": [
      "279\n"
     ]
    }
   ],
   "source": [
    "#applying PCA on training data\n",
    "scalar = StandardScaler() \n",
    "x=df_train[independent_attri]\n",
    "# fitting \n",
    "scalar.fit(x) \n",
    "scaled_df = scalar.transform(x) \n",
    "\n",
    "from sklearn.decomposition import PCA\n",
    "p = PCA(n_components = 2) \n",
    "p.fit(scaled_df) \n",
    "x_axis = p.transform(scaled_df) \n",
    "x_std=p.fit_transform(scaled_df)\n",
    "x_std.shape\n",
    "print(len(x_std))"
   ]
  },
  {
   "cell_type": "code",
   "execution_count": 36,
   "metadata": {},
   "outputs": [
    {
     "name": "stdout",
     "output_type": "stream",
     "text": [
      "71\n"
     ]
    }
   ],
   "source": [
    "#applying PCA on test data\n",
    "scalar1 = StandardScaler() \n",
    "x_test=df_test[independent_attri_test]\n",
    "\n",
    "# fitting \n",
    "scalar1.fit(x_test) \n",
    "scaled_df1 = scalar1.transform(x_test) \n",
    "\n",
    "from sklearn.decomposition import PCA\n",
    "p1 = PCA(n_components = 2) \n",
    "p1.fit(scaled_df1) \n",
    "x_axis1 = p1.transform(scaled_df1) \n",
    "x_std1=p1.fit_transform(scaled_df1)\n",
    "x_std1.shape\n",
    "print(len(x_std1))"
   ]
  },
  {
   "cell_type": "code",
   "execution_count": 84,
   "metadata": {},
   "outputs": [],
   "source": [
    "y1=df_train.Label.values\n",
    "x1=x_std\n",
    "# x1=df_train[independent_attri]\n",
    "xtrain, xtest, ytrain, ytest = train_test_split(x1,y1,test_size=0.2)"
   ]
  },
  {
   "cell_type": "code",
   "execution_count": 88,
   "metadata": {},
   "outputs": [
    {
     "name": "stdout",
     "output_type": "stream",
     "text": [
      "Lables after prediction are:  [ 1 -1  1  1 -1  1 -1 -1  1  1 -1 -1  1 -1  1 -1 -1 -1  1  1 -1  1  1  1\n",
      " -1 -1  1  1 -1  1  1  1  1 -1  1  1 -1  1  1  1  1 -1  1 -1 -1  1  1 -1\n",
      "  1  1  1  1 -1 -1  1  1 -1 -1  1 -1 -1  1  1 -1  1 -1  1 -1 -1  1  1]\n"
     ]
    }
   ],
   "source": [
    "from sklearn.tree import DecisionTreeClassifier\n",
    "descision_clf=DecisionTreeClassifier(criterion = \"entropy\", random_state = 1, max_depth = 5)\n",
    "descision_clf=descision_clf.fit(xtrain,ytrain)\n",
    "y_pred_dt = descision_clf.predict(x_std1)\n",
    "print(\"Lables after prediction are: \", y_pred_dt)"
   ]
  },
  {
   "cell_type": "code",
   "execution_count": 86,
   "metadata": {},
   "outputs": [],
   "source": [
    "list1=df_test[\"id\"]\n",
    "output_list=[]\n",
    "test_c=[\"id\",\"Label\"]\n",
    "output_list.append(test_c)\n",
    "for i in range(len(list1)):\n",
    "    t=[]\n",
    "    t.append(list1[i])\n",
    "    t.append(y_pred_mlp[i])\n",
    "    output_list.append(t)\n",
    "    "
   ]
  },
  {
   "cell_type": "code",
   "execution_count": 87,
   "metadata": {},
   "outputs": [
    {
     "name": "stdout",
     "output_type": "stream",
     "text": [
      "[['id', 'Label'], [3001, 1], [3002, 1], [3003, 1], [3004, 1], [3005, -1], [3006, -1], [3007, -1], [3008, 1], [3009, 1], [3010, 1], [3011, 1], [3012, 1], [3013, -1], [3014, -1], [3015, 1], [3016, 1], [3017, -1], [3018, 1], [3019, 1], [3020, 1], [3021, 1], [3022, 1], [3023, 1], [3024, 1], [3025, 1], [3026, -1], [3027, 1], [3028, -1], [3029, 1], [3030, 1], [3031, 1], [3032, 1], [3033, 1], [3034, 1], [3035, 1], [3036, 1], [3037, 1], [3038, 1], [3039, 1], [3040, 1], [3041, 1], [3042, -1], [3043, 1], [3044, -1], [3045, 1], [3046, 1], [3047, 1], [3048, 1], [3049, -1], [3050, 1], [3051, 1], [3052, 1], [3053, -1], [3054, -1], [3055, 1], [3056, 1], [3057, 1], [3058, 1], [3059, -1], [3060, 1], [3061, -1], [3062, 1], [3063, 1], [3064, 1], [3065, 1], [3066, -1], [3067, 1], [3068, 1], [3069, 1], [3070, -1], [3071, 1]]\n"
     ]
    }
   ],
   "source": [
    "print(output_list)\n",
    "import csv\n",
    "with open('output_dt1.csv', 'w', newline='') as file:\n",
    "    writer = csv.writer(file, delimiter=',')\n",
    "    writer.writerows(output_list)\n",
    "  "
   ]
  },
  {
   "cell_type": "code",
   "execution_count": null,
   "metadata": {},
   "outputs": [],
   "source": []
  }
 ],
 "metadata": {
  "kernelspec": {
   "display_name": "Python 3",
   "language": "python",
   "name": "python3"
  },
  "language_info": {
   "codemirror_mode": {
    "name": "ipython",
    "version": 3
   },
   "file_extension": ".py",
   "mimetype": "text/x-python",
   "name": "python",
   "nbconvert_exporter": "python",
   "pygments_lexer": "ipython3",
   "version": "3.7.7"
  }
 },
 "nbformat": 4,
 "nbformat_minor": 4
}
