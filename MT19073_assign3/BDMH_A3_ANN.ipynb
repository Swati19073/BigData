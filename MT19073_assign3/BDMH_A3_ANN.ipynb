{
  "nbformat": 4,
  "nbformat_minor": 0,
  "metadata": {
    "colab": {
      "name": "BDMH_A3_ANN.ipynb",
      "provenance": []
    },
    "kernelspec": {
      "name": "python3",
      "display_name": "Python 3"
    }
  },
  "cells": [
    {
      "cell_type": "code",
      "metadata": {
        "id": "Si2DsGmJux_b",
        "colab_type": "code",
        "colab": {
          "base_uri": "https://localhost:8080/",
          "height": 35
        },
        "outputId": "02120654-edc4-4686-fec9-281c14d1fbc0"
      },
      "source": [
        "import numpy as np\n",
        "import pandas as pd\n",
        "from sklearn.model_selection import train_test_split\n",
        "from keras.models import Sequential\n",
        "from keras.layers import Dense,Dropout\n",
        "from keras import optimizers"
      ],
      "execution_count": 1,
      "outputs": [
        {
          "output_type": "stream",
          "text": [
            "Using TensorFlow backend.\n"
          ],
          "name": "stderr"
        }
      ]
    },
    {
      "cell_type": "code",
      "metadata": {
        "id": "IIKG6N-YvFrU",
        "colab_type": "code",
        "colab": {}
      },
      "source": [
        "import csv\n",
        "df_train=pd.read_csv(\"trainset.data\")\n",
        "df_test=pd.read_csv(\"testset.dat\")\n",
        "df_dipep_train=pd.read_csv(\"dipep_train.csv\")\n",
        "df_dipep_test=pd.read_csv(\"dipep_test.csv\")"
      ],
      "execution_count": 0,
      "outputs": []
    },
    {
      "cell_type": "code",
      "metadata": {
        "id": "DK-pufFt_DYL",
        "colab_type": "code",
        "colab": {}
      },
      "source": [
        "\n",
        "#MLP implementation\n",
        "# dipep_train_col=df_dipep_train.columns\n",
        "# print(dipep_train_col)\n",
        "# train_attri=[]\n",
        "# for i in range(1,len(dipep_train_col)):\n",
        "#     train_attri.append(dipep_train_col[i])\n",
        "# print(len(train_attri))\n",
        "# dipep_test_col=df_dipep_test.columns\n",
        "# test_attri=[]\n",
        "# for i in range(1,len(dipep_test_col)):\n",
        "#     test_attri.append(dipep_test_col[i])\n",
        "# print(len(test_attri))\n",
        "\n",
        "# y=df_train.Label.values\n",
        "# print(len(y))\n",
        "# x=df_dipep_train[train_attri]\n",
        "# print(len(x))\n",
        "# xtrain, xtest, ytrain, ytest = train_test_split(x,y,test_size=0.2)\n",
        "\n",
        "# from sklearn.neural_network import MLPClassifier\n",
        "# clf = MLPClassifier(solver='lbfgs', alpha=1e-5,hidden_layer_sizes=(5, 2), random_state=1)\n",
        "# clf.fit(xtrain, ytrain)\n",
        "# MLPClassifier(alpha=1e-05, hidden_layer_sizes=(5, 2), random_state=1,solver='lbfgs')\n",
        "# test_p=df_dipep_test[test_attri]\n",
        "# y_pred_mlp=clf.predict(test_p)\n",
        "# print(y_pred_mlp)\n",
        "\n",
        "# list1=df_test[\"ID\"]\n",
        "# output_list=[]\n",
        "# test_c=[\"ID\",\"Label\"]\n",
        "# output_list.append(test_c)\n",
        "# for i in range(len(list1)):\n",
        "#     t=[]\n",
        "#     t.append(list1[i])\n",
        "#     t.append(y_pred_mlp[i])\n",
        "#     output_list.append(t)\n",
        "\n",
        "# import csv\n",
        "# with open('BDMH_mlp.csv', 'w', newline='') as file:\n",
        "#     writer = csv.writer(file, delimiter=',')\n",
        "#     writer.writerows(output_list)"
      ],
      "execution_count": 0,
      "outputs": []
    },
    {
      "cell_type": "code",
      "metadata": {
        "id": "a8Tfs7P7vOkZ",
        "colab_type": "code",
        "outputId": "fe99063c-049b-4571-a060-d399c1342f75",
        "colab": {
          "base_uri": "https://localhost:8080/",
          "height": 159
        }
      },
      "source": [
        "\n",
        "X = df_dipep_train.iloc[:, 1:].values\n",
        "print(X)\n",
        "Y = df_train.iloc[:, 1].values\n",
        "print(Y)"
      ],
      "execution_count": 28,
      "outputs": [
        {
          "output_type": "stream",
          "text": [
            "[[40.    0.    0.   ...  0.    0.    0.  ]\n",
            " [40.    0.    0.   ...  0.    0.    0.  ]\n",
            " [22.22  0.    0.   ...  0.    0.    0.  ]\n",
            " ...\n",
            " [ 0.    0.    0.   ... 14.29  0.    0.  ]\n",
            " [ 0.    0.    0.   ... 14.29  0.    0.  ]\n",
            " [ 0.    0.    0.   ...  0.    0.    9.09]]\n",
            "[ 1 -1  1 ... -1 -1  1]\n"
          ],
          "name": "stdout"
        }
      ]
    },
    {
      "cell_type": "code",
      "metadata": {
        "id": "sQHNVh-3vdHb",
        "colab_type": "code",
        "colab": {}
      },
      "source": [
        "\n"
      ],
      "execution_count": 0,
      "outputs": []
    },
    {
      "cell_type": "code",
      "metadata": {
        "id": "H4eHurnMvsQE",
        "colab_type": "code",
        "colab": {}
      },
      "source": [
        "cls = Sequential()\n",
        "cls.add(Dense(100, input_dim=400, activation='tanh'))\n",
        "cls.add(Dense(100, activation='tanh'))\n",
        "# cls.add(Dropout(0.5))\n",
        "cls.add(Dense(1, activation='sigmoid'))"
      ],
      "execution_count": 0,
      "outputs": []
    },
    {
      "cell_type": "code",
      "metadata": {
        "id": "M5GqoRdHv2AI",
        "colab_type": "code",
        "colab": {}
      },
      "source": [
        "sgd=optimizers.SGD(lr=0.01)\n",
        "cls.compile(loss='binary_crossentropy',optimizer=sgd, metrics=['acc'])"
      ],
      "execution_count": 0,
      "outputs": []
    },
    {
      "cell_type": "code",
      "metadata": {
        "id": "mD9sjkNtv4QB",
        "colab_type": "code",
        "outputId": "ab988b04-fe99-4335-a8b4-3e04aa33c43d",
        "colab": {
          "base_uri": "https://localhost:8080/",
          "height": 1000
        }
      },
      "source": [
        "cls.fit(X, Y, epochs=150, batch_size=100, verbose=2)"
      ],
      "execution_count": 49,
      "outputs": [
        {
          "output_type": "stream",
          "text": [
            "Epoch 1/150\n",
            " - 0s - loss: 0.3135 - acc: 0.0930\n",
            "Epoch 2/150\n",
            " - 0s - loss: -4.8122e-01 - acc: 0.0159\n",
            "Epoch 3/150\n",
            " - 0s - loss: -1.1039e+00 - acc: 0.0066\n",
            "Epoch 4/150\n",
            " - 0s - loss: -1.8080e+00 - acc: 0.0048\n",
            "Epoch 5/150\n",
            " - 0s - loss: -2.7155e+00 - acc: 0.0044\n",
            "Epoch 6/150\n",
            " - 0s - loss: -3.9061e+00 - acc: 0.0062\n",
            "Epoch 7/150\n",
            " - 0s - loss: -5.4544e+00 - acc: 0.0115\n",
            "Epoch 8/150\n",
            " - 0s - loss: -7.4167e+00 - acc: 0.0194\n",
            "Epoch 9/150\n",
            " - 0s - loss: -9.8350e+00 - acc: 0.0357\n",
            "Epoch 10/150\n",
            " - 0s - loss: -1.2711e+01 - acc: 0.0502\n",
            "Epoch 11/150\n",
            " - 0s - loss: -1.6142e+01 - acc: 0.0665\n",
            "Epoch 12/150\n",
            " - 0s - loss: -2.0089e+01 - acc: 0.0899\n",
            "Epoch 13/150\n",
            " - 0s - loss: -2.4581e+01 - acc: 0.1097\n",
            "Epoch 14/150\n",
            " - 0s - loss: -2.9653e+01 - acc: 0.1229\n",
            "Epoch 15/150\n",
            " - 0s - loss: -3.5238e+01 - acc: 0.1388\n",
            "Epoch 16/150\n",
            " - 0s - loss: -4.1436e+01 - acc: 0.1586\n",
            "Epoch 17/150\n",
            " - 0s - loss: -4.8060e+01 - acc: 0.1767\n",
            "Epoch 18/150\n",
            " - 0s - loss: -5.5271e+01 - acc: 0.1952\n",
            "Epoch 19/150\n",
            " - 0s - loss: -6.2610e+01 - acc: 0.2115\n",
            "Epoch 20/150\n",
            " - 0s - loss: -7.0379e+01 - acc: 0.2260\n",
            "Epoch 21/150\n",
            " - 0s - loss: -7.8399e+01 - acc: 0.2388\n",
            "Epoch 22/150\n",
            " - 0s - loss: -8.6443e+01 - acc: 0.2480\n",
            "Epoch 23/150\n",
            " - 0s - loss: -9.5075e+01 - acc: 0.2595\n",
            "Epoch 24/150\n",
            " - 0s - loss: -1.0339e+02 - acc: 0.2700\n",
            "Epoch 25/150\n",
            " - 0s - loss: -1.1191e+02 - acc: 0.2806\n",
            "Epoch 26/150\n",
            " - 0s - loss: -1.2068e+02 - acc: 0.2877\n",
            "Epoch 27/150\n",
            " - 0s - loss: -1.2911e+02 - acc: 0.2912\n",
            "Epoch 28/150\n",
            " - 0s - loss: -1.3768e+02 - acc: 0.2960\n",
            "Epoch 29/150\n",
            " - 0s - loss: -1.4665e+02 - acc: 0.3035\n",
            "Epoch 30/150\n",
            " - 0s - loss: -1.5496e+02 - acc: 0.3057\n",
            "Epoch 31/150\n",
            " - 0s - loss: -1.6427e+02 - acc: 0.3123\n",
            "Epoch 32/150\n",
            " - 0s - loss: -1.7337e+02 - acc: 0.3167\n",
            "Epoch 33/150\n",
            " - 0s - loss: -1.8276e+02 - acc: 0.3216\n",
            "Epoch 34/150\n",
            " - 0s - loss: -1.9136e+02 - acc: 0.3189\n",
            "Epoch 35/150\n",
            " - 0s - loss: -2.0031e+02 - acc: 0.3229\n",
            "Epoch 36/150\n",
            " - 0s - loss: -2.0949e+02 - acc: 0.3278\n",
            "Epoch 37/150\n",
            " - 0s - loss: -2.1873e+02 - acc: 0.3282\n",
            "Epoch 38/150\n",
            " - 0s - loss: -2.2723e+02 - acc: 0.3278\n",
            "Epoch 39/150\n",
            " - 0s - loss: -2.3579e+02 - acc: 0.3300\n",
            "Epoch 40/150\n",
            " - 0s - loss: -2.4447e+02 - acc: 0.3313\n",
            "Epoch 41/150\n",
            " - 0s - loss: -2.5544e+02 - acc: 0.3374\n",
            "Epoch 42/150\n",
            " - 0s - loss: -2.6519e+02 - acc: 0.3396\n",
            "Epoch 43/150\n",
            " - 0s - loss: -2.7452e+02 - acc: 0.3436\n",
            "Epoch 44/150\n",
            " - 0s - loss: -2.8403e+02 - acc: 0.3454\n",
            "Epoch 45/150\n",
            " - 0s - loss: -2.9256e+02 - acc: 0.3445\n",
            "Epoch 46/150\n",
            " - 0s - loss: -3.0136e+02 - acc: 0.3454\n",
            "Epoch 47/150\n",
            " - 0s - loss: -3.0951e+02 - acc: 0.3427\n",
            "Epoch 48/150\n",
            " - 0s - loss: -3.1676e+02 - acc: 0.3392\n",
            "Epoch 49/150\n",
            " - 0s - loss: -3.2685e+02 - acc: 0.3432\n",
            "Epoch 50/150\n",
            " - 0s - loss: -3.3599e+02 - acc: 0.3427\n",
            "Epoch 51/150\n",
            " - 0s - loss: -3.4640e+02 - acc: 0.3463\n",
            "Epoch 52/150\n",
            " - 0s - loss: -3.5621e+02 - acc: 0.3511\n",
            "Epoch 53/150\n",
            " - 0s - loss: -3.6491e+02 - acc: 0.3480\n",
            "Epoch 54/150\n",
            " - 0s - loss: -3.7352e+02 - acc: 0.3480\n",
            "Epoch 55/150\n",
            " - 0s - loss: -3.8275e+02 - acc: 0.3507\n",
            "Epoch 56/150\n",
            " - 0s - loss: -3.8839e+02 - acc: 0.3401\n",
            "Epoch 57/150\n",
            " - 0s - loss: -3.9681e+02 - acc: 0.3410\n",
            "Epoch 58/150\n",
            " - 0s - loss: -4.0499e+02 - acc: 0.3405\n",
            "Epoch 59/150\n",
            " - 0s - loss: -4.1692e+02 - acc: 0.3476\n",
            "Epoch 60/150\n",
            " - 0s - loss: -4.2386e+02 - acc: 0.3436\n",
            "Epoch 61/150\n",
            " - 0s - loss: -4.3246e+02 - acc: 0.3436\n",
            "Epoch 62/150\n",
            " - 0s - loss: -4.4416e+02 - acc: 0.3493\n",
            "Epoch 63/150\n",
            " - 0s - loss: -4.5410e+02 - acc: 0.3507\n",
            "Epoch 64/150\n",
            " - 0s - loss: -4.6291e+02 - acc: 0.3515\n",
            "Epoch 65/150\n",
            " - 0s - loss: -4.7405e+02 - acc: 0.3555\n",
            "Epoch 66/150\n",
            " - 0s - loss: -4.8316e+02 - acc: 0.3555\n",
            "Epoch 67/150\n",
            " - 0s - loss: -4.9170e+02 - acc: 0.3551\n",
            "Epoch 68/150\n",
            " - 0s - loss: -5.0125e+02 - acc: 0.3551\n",
            "Epoch 69/150\n",
            " - 0s - loss: -5.1092e+02 - acc: 0.3568\n",
            "Epoch 70/150\n",
            " - 0s - loss: -5.2045e+02 - acc: 0.3559\n",
            "Epoch 71/150\n",
            " - 0s - loss: -5.2988e+02 - acc: 0.3577\n",
            "Epoch 72/150\n",
            " - 0s - loss: -5.3824e+02 - acc: 0.3559\n",
            "Epoch 73/150\n",
            " - 0s - loss: -5.4777e+02 - acc: 0.3568\n",
            "Epoch 74/150\n",
            " - 0s - loss: -5.5350e+02 - acc: 0.3533\n",
            "Epoch 75/150\n",
            " - 0s - loss: -5.5903e+02 - acc: 0.3480\n",
            "Epoch 76/150\n",
            " - 0s - loss: -5.5988e+02 - acc: 0.3366\n",
            "Epoch 77/150\n",
            " - 0s - loss: -5.5174e+02 - acc: 0.3194\n",
            "Epoch 78/150\n",
            " - 0s - loss: -5.6063e+02 - acc: 0.3198\n",
            "Epoch 79/150\n",
            " - 0s - loss: -5.7525e+02 - acc: 0.3242\n",
            "Epoch 80/150\n",
            " - 0s - loss: -5.9629e+02 - acc: 0.3379\n",
            "Epoch 81/150\n",
            " - 0s - loss: -6.0311e+02 - acc: 0.3396\n",
            "Epoch 82/150\n",
            " - 0s - loss: -6.1307e+02 - acc: 0.3396\n",
            "Epoch 83/150\n",
            " - 0s - loss: -6.3002e+02 - acc: 0.3493\n",
            "Epoch 84/150\n",
            " - 0s - loss: -6.4100e+02 - acc: 0.3515\n",
            "Epoch 85/150\n",
            " - 0s - loss: -6.5241e+02 - acc: 0.3551\n",
            "Epoch 86/150\n",
            " - 0s - loss: -6.6337e+02 - acc: 0.3568\n",
            "Epoch 87/150\n",
            " - 0s - loss: -6.7152e+02 - acc: 0.3555\n",
            "Epoch 88/150\n",
            " - 0s - loss: -6.8043e+02 - acc: 0.3555\n",
            "Epoch 89/150\n",
            " - 0s - loss: -6.8978e+02 - acc: 0.3577\n",
            "Epoch 90/150\n",
            " - 0s - loss: -6.9943e+02 - acc: 0.3568\n",
            "Epoch 91/150\n",
            " - 0s - loss: -7.0815e+02 - acc: 0.3573\n",
            "Epoch 92/150\n",
            " - 0s - loss: -7.1840e+02 - acc: 0.3577\n",
            "Epoch 93/150\n",
            " - 0s - loss: -7.2870e+02 - acc: 0.3599\n",
            "Epoch 94/150\n",
            " - 0s - loss: -7.3595e+02 - acc: 0.3586\n",
            "Epoch 95/150\n",
            " - 0s - loss: -7.4552e+02 - acc: 0.3586\n",
            "Epoch 96/150\n",
            " - 0s - loss: -7.5532e+02 - acc: 0.3599\n",
            "Epoch 97/150\n",
            " - 0s - loss: -7.6316e+02 - acc: 0.3573\n",
            "Epoch 98/150\n",
            " - 0s - loss: -7.7057e+02 - acc: 0.3577\n",
            "Epoch 99/150\n",
            " - 0s - loss: -7.7884e+02 - acc: 0.3555\n",
            "Epoch 100/150\n",
            " - 0s - loss: -7.8995e+02 - acc: 0.3564\n",
            "Epoch 101/150\n",
            " - 0s - loss: -7.9915e+02 - acc: 0.3581\n",
            "Epoch 102/150\n",
            " - 0s - loss: -8.0801e+02 - acc: 0.3577\n",
            "Epoch 103/150\n",
            " - 0s - loss: -8.1286e+02 - acc: 0.3546\n",
            "Epoch 104/150\n",
            " - 0s - loss: -8.2026e+02 - acc: 0.3529\n",
            "Epoch 105/150\n",
            " - 0s - loss: -8.2573e+02 - acc: 0.3480\n",
            "Epoch 106/150\n",
            " - 0s - loss: -8.3190e+02 - acc: 0.3507\n",
            "Epoch 107/150\n",
            " - 0s - loss: -8.4127e+02 - acc: 0.3471\n",
            "Epoch 108/150\n",
            " - 0s - loss: -8.3744e+02 - acc: 0.3370\n",
            "Epoch 109/150\n",
            " - 0s - loss: -8.3315e+02 - acc: 0.3278\n",
            "Epoch 110/150\n",
            " - 0s - loss: -8.2976e+02 - acc: 0.3181\n",
            "Epoch 111/150\n",
            " - 0s - loss: -8.3328e+02 - acc: 0.3172\n",
            "Epoch 112/150\n",
            " - 0s - loss: -8.3020e+02 - acc: 0.3097\n",
            "Epoch 113/150\n",
            " - 0s - loss: -8.6145e+02 - acc: 0.3211\n",
            "Epoch 114/150\n",
            " - 0s - loss: -8.7993e+02 - acc: 0.3313\n",
            "Epoch 115/150\n",
            " - 0s - loss: -8.8824e+02 - acc: 0.3317\n",
            "Epoch 116/150\n",
            " - 0s - loss: -9.0372e+02 - acc: 0.3401\n",
            "Epoch 117/150\n",
            " - 0s - loss: -9.2143e+02 - acc: 0.3419\n",
            "Epoch 118/150\n",
            " - 0s - loss: -9.3651e+02 - acc: 0.3485\n",
            "Epoch 119/150\n",
            " - 0s - loss: -9.4604e+02 - acc: 0.3476\n",
            "Epoch 120/150\n",
            " - 0s - loss: -9.6132e+02 - acc: 0.3551\n",
            "Epoch 121/150\n",
            " - 0s - loss: -9.7239e+02 - acc: 0.3533\n",
            "Epoch 122/150\n",
            " - 0s - loss: -9.8461e+02 - acc: 0.3564\n",
            "Epoch 123/150\n",
            " - 0s - loss: -9.9194e+02 - acc: 0.3573\n",
            "Epoch 124/150\n",
            " - 0s - loss: -9.9916e+02 - acc: 0.3555\n",
            "Epoch 125/150\n",
            " - 0s - loss: -1.0094e+03 - acc: 0.3573\n",
            "Epoch 126/150\n",
            " - 0s - loss: -1.0206e+03 - acc: 0.3568\n",
            "Epoch 127/150\n",
            " - 0s - loss: -1.0305e+03 - acc: 0.3581\n",
            "Epoch 128/150\n",
            " - 0s - loss: -1.0389e+03 - acc: 0.3577\n",
            "Epoch 129/150\n",
            " - 0s - loss: -1.0474e+03 - acc: 0.3586\n",
            "Epoch 130/150\n",
            " - 0s - loss: -1.0579e+03 - acc: 0.3581\n",
            "Epoch 131/150\n",
            " - 0s - loss: -1.0666e+03 - acc: 0.3564\n",
            "Epoch 132/150\n",
            " - 0s - loss: -1.0760e+03 - acc: 0.3612\n",
            "Epoch 133/150\n",
            " - 0s - loss: -1.0864e+03 - acc: 0.3604\n",
            "Epoch 134/150\n",
            " - 0s - loss: -1.0961e+03 - acc: 0.3595\n",
            "Epoch 135/150\n",
            " - 0s - loss: -1.1053e+03 - acc: 0.3617\n",
            "Epoch 136/150\n",
            " - 0s - loss: -1.1153e+03 - acc: 0.3599\n",
            "Epoch 137/150\n",
            " - 0s - loss: -1.1230e+03 - acc: 0.3604\n",
            "Epoch 138/150\n",
            " - 0s - loss: -1.1339e+03 - acc: 0.3612\n",
            "Epoch 139/150\n",
            " - 0s - loss: -1.1422e+03 - acc: 0.3608\n",
            "Epoch 140/150\n",
            " - 0s - loss: -1.1519e+03 - acc: 0.3604\n",
            "Epoch 141/150\n",
            " - 0s - loss: -1.1600e+03 - acc: 0.3599\n",
            "Epoch 142/150\n",
            " - 0s - loss: -1.1701e+03 - acc: 0.3599\n",
            "Epoch 143/150\n",
            " - 0s - loss: -1.1686e+03 - acc: 0.3559\n",
            "Epoch 144/150\n",
            " - 0s - loss: -1.1729e+03 - acc: 0.3511\n",
            "Epoch 145/150\n",
            " - 0s - loss: -1.1788e+03 - acc: 0.3515\n",
            "Epoch 146/150\n",
            " - 0s - loss: -1.1895e+03 - acc: 0.3520\n",
            "Epoch 147/150\n",
            " - 0s - loss: -1.1959e+03 - acc: 0.3493\n",
            "Epoch 148/150\n",
            " - 0s - loss: -1.2017e+03 - acc: 0.3467\n",
            "Epoch 149/150\n",
            " - 0s - loss: -1.1948e+03 - acc: 0.3392\n",
            "Epoch 150/150\n",
            " - 0s - loss: -1.1755e+03 - acc: 0.3286\n"
          ],
          "name": "stdout"
        },
        {
          "output_type": "execute_result",
          "data": {
            "text/plain": [
              "<keras.callbacks.callbacks.History at 0x7fd403f34320>"
            ]
          },
          "metadata": {
            "tags": []
          },
          "execution_count": 49
        }
      ]
    },
    {
      "cell_type": "code",
      "metadata": {
        "id": "h7oJC0DFBW68",
        "colab_type": "code",
        "outputId": "61015220-59d9-446e-c2c8-82b153c96e78",
        "colab": {
          "base_uri": "https://localhost:8080/",
          "height": 295
        }
      },
      "source": [
        "# hists=[]\n",
        "# cls.fit(X, Y, epochs=150, batch_size=100, validation_split=0.1, verbose=2)\n",
        "# hists.append(cls.history.history)\n",
        "\n",
        "# import matplotlib.pyplot as plt\n",
        "# acc = []\n",
        "# val_acc = []\n",
        "# for i in range(len(hists)):\n",
        "#     acc += hists[i][\"acc\"]\n",
        "#     val_acc += hists[i][\"val_acc\"]\n",
        "# hist_df = pd.DataFrame({\"# Epoch\": [e for e in range(1,len(acc)+1)],\"Accuracy\": acc, \"Val_accuracy\": val_acc})\n",
        "# hist_df.plot(x = \"# Epoch\", y = [\"Accuracy\",\"Val_accuracy\"])\n",
        "# plt.title(\"Accuracy vs Validation Accuracy\")\n",
        "# plt.show()"
      ],
      "execution_count": 0,
      "outputs": [
        {
          "output_type": "display_data",
          "data": {
            "image/png": "[encoded data removed]",
            "text/plain": [
              "<Figure size 432x288 with 1 Axes>"
            ]
          },
          "metadata": {
            "tags": [],
            "needs_background": "light"
          }
        }
      ]
    },
    {
      "cell_type": "code",
      "metadata": {
        "id": "6igtwIEQwTQs",
        "colab_type": "code",
        "outputId": "b2f0799a-437d-43d8-b541-8cb293d34c45",
        "colab": {
          "base_uri": "https://localhost:8080/",
          "height": 55
        }
      },
      "source": [
        "test_x=df_dipep_test.iloc[:,1:]\n",
        "\n",
        "pred = cls.predict(test_x)\n",
        "# pred = cls.predict_classes(test_x)\n",
        "new_pred = [int(round(x[0])) for x in pred]\n",
        "print(new_pred)"
      ],
      "execution_count": 50,
      "outputs": [
        {
          "output_type": "stream",
          "text": [
            "[0, 1, 0, 0, 0, 0, 0, 1, 0, 0, 0, 0, 1, 1, 0, 0, 0, 0, 1, 0, 0, 1, 0, 0, 0, 0, 0, 1, 1, 0, 0, 0, 0, 0, 0, 0, 0, 0, 1, 1, 1, 0, 0, 0, 0, 0, 1, 0, 0, 0, 0, 0, 0, 0, 0, 0, 0, 0, 1, 1, 0, 1, 0, 1, 0, 0, 0, 0, 0, 1, 0, 0, 0, 0, 0, 0, 0, 1, 1, 1, 0, 1, 0, 0, 1, 0, 0, 1, 0, 1, 0, 0, 1, 1, 0, 1, 0, 1, 0, 0, 1, 0, 1, 0, 1, 1, 0, 0, 1, 1, 1, 0, 0, 0, 0, 0, 1, 0, 0, 0, 0, 1, 0, 0, 0, 0, 0, 0, 1, 1, 0, 1, 0, 0, 0, 0, 0, 0, 0, 0, 0, 0, 1, 1, 0, 1, 0, 0, 0, 0, 1, 0, 0, 0, 0, 0, 0, 0, 0, 0, 0, 0, 0, 0, 0, 0, 0, 0, 0, 1, 0, 0, 0, 0, 0, 0, 1, 0, 0, 1, 0, 0, 0, 0, 0, 0, 0, 1, 0, 1, 0, 0, 1, 1, 0, 0, 0, 0, 1, 0, 1, 1, 1, 0, 0, 0, 0, 1, 1, 0, 0, 0, 0, 1, 0, 0, 1, 1, 0, 1, 1, 0, 1, 1, 0, 0, 1, 0, 0, 0, 0, 0, 0, 1, 0, 0, 0, 1, 0, 0, 0, 0, 1, 0, 1, 1, 0, 0, 0, 0, 1, 1, 1, 1, 0, 0, 0, 0, 0, 0, 1, 1, 1, 0, 1, 0, 0, 1, 0, 1, 1, 0, 0, 0, 0, 0, 1, 0, 1, 0, 0, 0, 1, 0, 0, 0, 1, 0, 0, 0, 1, 0, 0, 0, 1, 0, 1, 0, 0, 0, 0, 0, 0, 0, 1, 0, 1, 0, 1, 0, 0, 0, 0, 0, 0, 0, 1, 0, 1, 0, 0, 0, 0, 0, 0, 0, 0, 1, 0, 0, 0, 1, 0, 1, 1, 0, 1, 1, 0, 0, 1, 0, 0, 0, 1, 0, 1, 0, 0, 0, 0, 0, 1, 0, 1, 1, 1, 0, 1, 0, 0, 0, 0, 0, 0, 0, 0, 0, 0, 0, 1, 1, 0, 0, 1, 0, 1, 0, 1, 1, 1, 1, 1, 0, 1, 1, 1, 0, 1, 1, 0, 0, 0, 1, 0, 0, 0, 0, 0, 0, 0, 1, 0, 0, 0, 1, 0, 0, 0, 1, 0, 1, 1, 0, 1, 0, 1, 0, 0, 0, 0, 0, 1, 0, 0, 0, 1, 1, 0, 1, 0, 1, 1, 0, 1, 0, 0, 0, 0, 0, 1, 1, 1, 0, 0, 0, 0, 0, 0, 0, 0, 1, 0, 1, 1, 1, 0, 0, 1, 0, 1, 0, 0, 0, 1, 0, 1, 1, 0, 0, 1, 0, 0, 1, 0, 0, 1, 0, 0, 0, 0, 1, 0, 0, 1, 0, 0, 0, 1, 0, 1, 0, 0, 1, 0, 0, 0, 1, 0, 1, 1, 1, 0, 0, 0, 0, 1, 0, 0, 0, 0, 1, 0, 1, 0, 1, 0, 0, 0, 0, 1, 0, 1, 1, 0, 0, 0, 0, 0, 0, 1, 1, 0, 0, 0, 0, 0, 0, 1, 1, 0, 0, 1, 1, 0, 1, 0, 0, 0, 0, 0, 1, 0, 1, 1, 0, 0, 0, 0, 1, 0, 0, 0, 1, 1, 1, 0]\n"
          ],
          "name": "stdout"
        }
      ]
    },
    {
      "cell_type": "code",
      "metadata": {
        "id": "OUf4XXMywlku",
        "colab_type": "code",
        "colab": {}
      },
      "source": [
        ""
      ],
      "execution_count": 0,
      "outputs": []
    },
    {
      "cell_type": "code",
      "metadata": {
        "id": "0320Kkg0w34d",
        "colab_type": "code",
        "outputId": "ff8d2662-35ed-44d2-94bd-06a55065bb19",
        "colab": {
          "base_uri": "https://localhost:8080/",
          "height": 55
        }
      },
      "source": [
        "\n",
        "for n, i in enumerate(new_pred):\n",
        "  if i==0:\n",
        "    new_pred[n]=-1\n",
        "\n",
        "print(new_pred)"
      ],
      "execution_count": 51,
      "outputs": [
        {
          "output_type": "stream",
          "text": [
            "[-1, 1, -1, -1, -1, -1, -1, 1, -1, -1, -1, -1, 1, 1, -1, -1, -1, -1, 1, -1, -1, 1, -1, -1, -1, -1, -1, 1, 1, -1, -1, -1, -1, -1, -1, -1, -1, -1, 1, 1, 1, -1, -1, -1, -1, -1, 1, -1, -1, -1, -1, -1, -1, -1, -1, -1, -1, -1, 1, 1, -1, 1, -1, 1, -1, -1, -1, -1, -1, 1, -1, -1, -1, -1, -1, -1, -1, 1, 1, 1, -1, 1, -1, -1, 1, -1, -1, 1, -1, 1, -1, -1, 1, 1, -1, 1, -1, 1, -1, -1, 1, -1, 1, -1, 1, 1, -1, -1, 1, 1, 1, -1, -1, -1, -1, -1, 1, -1, -1, -1, -1, 1, -1, -1, -1, -1, -1, -1, 1, 1, -1, 1, -1, -1, -1, -1, -1, -1, -1, -1, -1, -1, 1, 1, -1, 1, -1, -1, -1, -1, 1, -1, -1, -1, -1, -1, -1, -1, -1, -1, -1, -1, -1, -1, -1, -1, -1, -1, -1, 1, -1, -1, -1, -1, -1, -1, 1, -1, -1, 1, -1, -1, -1, -1, -1, -1, -1, 1, -1, 1, -1, -1, 1, 1, -1, -1, -1, -1, 1, -1, 1, 1, 1, -1, -1, -1, -1, 1, 1, -1, -1, -1, -1, 1, -1, -1, 1, 1, -1, 1, 1, -1, 1, 1, -1, -1, 1, -1, -1, -1, -1, -1, -1, 1, -1, -1, -1, 1, -1, -1, -1, -1, 1, -1, 1, 1, -1, -1, -1, -1, 1, 1, 1, 1, -1, -1, -1, -1, -1, -1, 1, 1, 1, -1, 1, -1, -1, 1, -1, 1, 1, -1, -1, -1, -1, -1, 1, -1, 1, -1, -1, -1, 1, -1, -1, -1, 1, -1, -1, -1, 1, -1, -1, -1, 1, -1, 1, -1, -1, -1, -1, -1, -1, -1, 1, -1, 1, -1, 1, -1, -1, -1, -1, -1, -1, -1, 1, -1, 1, -1, -1, -1, -1, -1, -1, -1, -1, 1, -1, -1, -1, 1, -1, 1, 1, -1, 1, 1, -1, -1, 1, -1, -1, -1, 1, -1, 1, -1, -1, -1, -1, -1, 1, -1, 1, 1, 1, -1, 1, -1, -1, -1, -1, -1, -1, -1, -1, -1, -1, -1, 1, 1, -1, -1, 1, -1, 1, -1, 1, 1, 1, 1, 1, -1, 1, 1, 1, -1, 1, 1, -1, -1, -1, 1, -1, -1, -1, -1, -1, -1, -1, 1, -1, -1, -1, 1, -1, -1, -1, 1, -1, 1, 1, -1, 1, -1, 1, -1, -1, -1, -1, -1, 1, -1, -1, -1, 1, 1, -1, 1, -1, 1, 1, -1, 1, -1, -1, -1, -1, -1, 1, 1, 1, -1, -1, -1, -1, -1, -1, -1, -1, 1, -1, 1, 1, 1, -1, -1, 1, -1, 1, -1, -1, -1, 1, -1, 1, 1, -1, -1, 1, -1, -1, 1, -1, -1, 1, -1, -1, -1, -1, 1, -1, -1, 1, -1, -1, -1, 1, -1, 1, -1, -1, 1, -1, -1, -1, 1, -1, 1, 1, 1, -1, -1, -1, -1, 1, -1, -1, -1, -1, 1, -1, 1, -1, 1, -1, -1, -1, -1, 1, -1, 1, 1, -1, -1, -1, -1, -1, -1, 1, 1, -1, -1, -1, -1, -1, -1, 1, 1, -1, -1, 1, 1, -1, 1, -1, -1, -1, -1, -1, 1, -1, 1, 1, -1, -1, -1, -1, 1, -1, -1, -1, 1, 1, 1, -1]\n"
          ],
          "name": "stdout"
        }
      ]
    },
    {
      "cell_type": "code",
      "metadata": {
        "id": "ALLP-X5S0Q-9",
        "colab_type": "code",
        "colab": {}
      },
      "source": [
        "list1=df_test[\"ID\"]\n",
        "output_list=[]\n",
        "test_c=[\"ID\",\"Label\"]\n",
        "output_list.append(test_c)\n",
        "for i in range(len(list1)):\n",
        "    t=[]\n",
        "    t.append(list1[i])\n",
        "    t.append(new_pred[i])\n",
        "    output_list.append(t)"
      ],
      "execution_count": 0,
      "outputs": []
    },
    {
      "cell_type": "code",
      "metadata": {
        "id": "2e4yk4s70g_9",
        "colab_type": "code",
        "outputId": "e97ed9fd-39d6-477c-a098-c17959cea55f",
        "colab": {
          "base_uri": "https://localhost:8080/",
          "height": 55
        }
      },
      "source": [
        "print(output_list)"
      ],
      "execution_count": 0,
      "outputs": [
        {
          "output_type": "stream",
          "text": [
            "[['ID', 'Label'], [1001, -1], [1002, 1], [1003, -1], [1004, -1], [1005, -1], [1006, 1], [1007, -1], [1008, 1], [1009, -1], [1010, -1], [1011, -1], [1012, -1], [1013, 1], [1014, -1], [1015, -1], [1016, -1], [1017, -1], [1018, -1], [1019, 1], [1020, -1], [1021, -1], [1022, 1], [1023, -1], [1024, -1], [1025, -1], [1026, -1], [1027, -1], [1028, -1], [1029, -1], [1030, 1], [1031, 1], [1032, 1], [1033, -1], [1034, -1], [1035, -1], [1036, -1], [1037, -1], [1038, -1], [1039, 1], [1040, -1], [1041, -1], [1042, -1], [1043, 1], [1044, 1], [1045, -1], [1046, -1], [1047, 1], [1048, 1], [1049, -1], [1050, 1], [1051, -1], [1052, -1], [1053, -1], [1054, -1], [1055, -1], [1056, -1], [1057, -1], [1058, -1], [1059, -1], [1060, 1], [1061, 1], [1062, 1], [1063, -1], [1064, 1], [1065, -1], [1066, -1], [1067, -1], [1068, 1], [1069, -1], [1070, -1], [1071, -1], [1072, -1], [1073, -1], [1074, 1], [1075, -1], [1076, -1], [1077, -1], [1078, 1], [1079, -1], [1080, 1], [1081, -1], [1082, 1], [1083, -1], [1084, -1], [1085, 1], [1086, -1], [1087, -1], [1088, 1], [1089, -1], [1090, -1], [1091, -1], [1092, -1], [1093, 1], [1094, 1], [1095, 1], [1096, 1], [1097, -1], [1098, -1], [1099, -1], [1100, 1], [1101, 1], [1102, -1], [1103, 1], [1104, -1], [1105, -1], [1106, -1], [1107, -1], [1108, 1], [1109, 1], [1110, -1], [1111, -1], [1112, -1], [1113, -1], [1114, -1], [1115, -1], [1116, -1], [1117, 1], [1118, -1], [1119, -1], [1120, -1], [1121, -1], [1122, 1], [1123, -1], [1124, 1], [1125, -1], [1126, -1], [1127, -1], [1128, -1], [1129, 1], [1130, 1], [1131, -1], [1132, 1], [1133, -1], [1134, -1], [1135, -1], [1136, -1], [1137, -1], [1138, 1], [1139, -1], [1140, -1], [1141, -1], [1142, -1], [1143, -1], [1144, 1], [1145, -1], [1146, 1], [1147, -1], [1148, -1], [1149, -1], [1150, -1], [1151, 1], [1152, -1], [1153, -1], [1154, -1], [1155, -1], [1156, -1], [1157, -1], [1158, -1], [1159, 1], [1160, -1], [1161, -1], [1162, -1], [1163, 1], [1164, -1], [1165, -1], [1166, -1], [1167, -1], [1168, -1], [1169, -1], [1170, 1], [1171, -1], [1172, -1], [1173, -1], [1174, -1], [1175, -1], [1176, -1], [1177, 1], [1178, -1], [1179, -1], [1180, 1], [1181, -1], [1182, -1], [1183, -1], [1184, -1], [1185, -1], [1186, -1], [1187, -1], [1188, 1], [1189, -1], [1190, 1], [1191, -1], [1192, -1], [1193, 1], [1194, 1], [1195, -1], [1196, -1], [1197, -1], [1198, -1], [1199, 1], [1200, -1], [1201, 1], [1202, -1], [1203, 1], [1204, -1], [1205, -1], [1206, -1], [1207, 1], [1208, 1], [1209, 1], [1210, 1], [1211, -1], [1212, -1], [1213, 1], [1214, -1], [1215, 1], [1216, -1], [1217, 1], [1218, 1], [1219, -1], [1220, -1], [1221, 1], [1222, -1], [1223, 1], [1224, -1], [1225, -1], [1226, -1], [1227, 1], [1228, -1], [1229, -1], [1230, -1], [1231, -1], [1232, -1], [1233, -1], [1234, 1], [1235, -1], [1236, 1], [1237, -1], [1238, 1], [1239, -1], [1240, -1], [1241, -1], [1242, -1], [1243, 1], [1244, -1], [1245, -1], [1246, -1], [1247, -1], [1248, -1], [1249, -1], [1250, -1], [1251, 1], [1252, 1], [1253, 1], [1254, 1], [1255, -1], [1256, -1], [1257, -1], [1258, -1], [1259, -1], [1260, -1], [1261, 1], [1262, 1], [1263, 1], [1264, -1], [1265, 1], [1266, 1], [1267, -1], [1268, 1], [1269, -1], [1270, -1], [1271, 1], [1272, -1], [1273, 1], [1274, -1], [1275, -1], [1276, -1], [1277, 1], [1278, -1], [1279, 1], [1280, -1], [1281, -1], [1282, -1], [1283, 1], [1284, -1], [1285, 1], [1286, -1], [1287, 1], [1288, -1], [1289, -1], [1290, -1], [1291, 1], [1292, -1], [1293, 1], [1294, -1], [1295, 1], [1296, -1], [1297, -1], [1298, -1], [1299, -1], [1300, -1], [1301, -1], [1302, -1], [1303, -1], [1304, -1], [1305, 1], [1306, -1], [1307, 1], [1308, 1], [1309, -1], [1310, 1], [1311, 1], [1312, -1], [1313, -1], [1314, -1], [1315, 1], [1316, 1], [1317, 1], [1318, -1], [1319, 1], [1320, -1], [1321, -1], [1322, -1], [1323, -1], [1324, -1], [1325, -1], [1326, 1], [1327, -1], [1328, 1], [1329, -1], [1330, -1], [1331, -1], [1332, 1], [1333, 1], [1334, 1], [1335, 1], [1336, 1], [1337, 1], [1338, 1], [1339, -1], [1340, 1], [1341, 1], [1342, 1], [1343, -1], [1344, -1], [1345, 1], [1346, -1], [1347, 1], [1348, -1], [1349, 1], [1350, -1], [1351, -1], [1352, -1], [1353, 1], [1354, -1], [1355, 1], [1356, -1], [1357, -1], [1358, 1], [1359, -1], [1360, -1], [1361, -1], [1362, -1], [1363, -1], [1364, -1], [1365, -1], [1366, -1], [1367, -1], [1368, -1], [1369, -1], [1370, -1], [1371, 1], [1372, 1], [1373, -1], [1374, -1], [1375, 1], [1376, -1], [1377, 1], [1378, -1], [1379, 1], [1380, -1], [1381, 1], [1382, 1], [1383, 1], [1384, -1], [1385, 1], [1386, 1], [1387, -1], [1388, 1], [1389, 1], [1390, 1], [1391, -1], [1392, -1], [1393, -1], [1394, 1], [1395, -1], [1396, -1], [1397, -1], [1398, -1], [1399, 1], [1400, -1], [1401, -1], [1402, 1], [1403, 1], [1404, 1], [1405, -1], [1406, 1], [1407, -1], [1408, -1], [1409, -1], [1410, 1], [1411, -1], [1412, -1], [1413, 1], [1414, -1], [1415, -1], [1416, -1], [1417, 1], [1418, -1], [1419, -1], [1420, -1], [1421, 1], [1422, -1], [1423, -1], [1424, -1], [1425, 1], [1426, -1], [1427, -1], [1428, 1], [1429, -1], [1430, -1], [1431, -1], [1432, 1], [1433, 1], [1434, 1], [1435, 1], [1436, 1], [1437, -1], [1438, -1], [1439, -1], [1440, -1], [1441, -1], [1442, 1], [1443, 1], [1444, -1], [1445, -1], [1446, -1], [1447, -1], [1448, 1], [1449, -1], [1450, -1], [1451, -1], [1452, 1], [1453, -1], [1454, -1], [1455, 1], [1456, -1], [1457, -1], [1458, -1], [1459, 1], [1460, -1], [1461, 1], [1462, -1], [1463, -1], [1464, -1], [1465, 1], [1466, -1], [1467, 1], [1468, 1], [1469, -1], [1470, -1], [1471, 1], [1472, -1], [1473, -1], [1474, 1], [1475, -1], [1476, -1], [1477, 1], [1478, 1], [1479, -1], [1480, -1], [1481, 1], [1482, -1], [1483, -1], [1484, -1], [1485, 1], [1486, -1], [1487, -1], [1488, -1], [1489, 1], [1490, -1], [1491, 1], [1492, -1], [1493, -1], [1494, 1], [1495, -1], [1496, -1], [1497, -1], [1498, 1], [1499, -1], [1500, 1], [1501, 1], [1502, 1], [1503, -1], [1504, 1], [1505, -1], [1506, 1], [1507, 1], [1508, -1], [1509, -1], [1510, -1], [1511, -1], [1512, 1], [1513, -1], [1514, 1], [1515, -1], [1516, 1], [1517, -1], [1518, -1], [1519, -1], [1520, -1], [1521, -1], [1522, -1], [1523, 1], [1524, -1], [1525, -1], [1526, -1], [1527, -1], [1528, 1], [1529, 1], [1530, -1], [1531, 1], [1532, 1], [1533, -1], [1534, -1], [1535, -1], [1536, -1], [1537, -1], [1538, -1], [1539, 1], [1540, 1], [1541, -1], [1542, -1], [1543, -1], [1544, -1], [1545, -1], [1546, 1], [1547, -1], [1548, -1], [1549, -1], [1550, 1], [1551, -1], [1552, 1], [1553, -1], [1554, 1], [1555, 1], [1556, -1], [1557, -1], [1558, -1], [1559, -1], [1560, 1], [1561, -1], [1562, -1], [1563, -1], [1564, 1], [1565, 1], [1566, 1], [1567, -1]]\n"
          ],
          "name": "stdout"
        }
      ]
    },
    {
      "cell_type": "code",
      "metadata": {
        "id": "Q9FpX2Wg0j19",
        "colab_type": "code",
        "colab": {}
      },
      "source": [
        "import csv\n",
        "with open('final_output2.csv', 'w', newline='') as file:\n",
        "    writer = csv.writer(file, delimiter=',')\n",
        "    writer.writerows(output_list)"
      ],
      "execution_count": 0,
      "outputs": []
    }
  ]
}