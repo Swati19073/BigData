{
 "cells": [
  {
   "cell_type": "code",
   "execution_count": 1,
   "metadata": {},
   "outputs": [
    {
     "name": "stdout",
     "output_type": "stream",
     "text": [
      "['0.73', '0', '1', '0', '0', '0', '0', '0', '1', '0', '0', '0', '0', '0', '0', '0', '0.0006', '0.015', '0.12', '0.082', '0.146', '3']\n"
     ]
    }
   ],
   "source": [
    "#READING THE INPUT FROM CSV FILES \n",
    "import pandas as pd\n",
    "path=\"IIIT/Winter '20/BDMH/BDMH Project/Dataset\"\n",
    "training_data=path+'/'+'ann-train.data'\n",
    "testing_data=path+'/'+'ann-test.data'\n",
    "file=open(training_data,'r')\n",
    "file_2=open(testing_data,'r')\n",
    "text=file.read()\n",
    "training_dataset=[]\n",
    "text=text.strip()\n",
    "text=text.split(\"\\n\")\n",
    "for line in text:\n",
    "    line=line.strip()\n",
    "    words=line.split(\" \")\n",
    "    training_dataset.append(words)\n",
    "print(training_dataset[0])   \n",
    "\n",
    "text_2=file_2.read()\n",
    "testing_dataset=[]\n",
    "text_2=text_2.strip()\n",
    "text_2=text_2.split(\"\\n\")\n",
    "for line in text_2:\n",
    "    line=line.strip()\n",
    "    words=line.split(\" \")\n",
    "    testing_dataset.append(words)\n",
    "\n",
    "    "
   ]
  },
  {
   "cell_type": "code",
   "execution_count": 2,
   "metadata": {},
   "outputs": [],
   "source": [
    "#CREATING DATAFRAMES FROM READ DATA\n",
    "df = pd.DataFrame(training_dataset,columns = ['Age','Sex','On_thyroxine','Query_on_thyroxine','On_antithyroid_medication','Sick','Pregnant','Thyroid_surgery','I131_treatment','Query_hypothyroid','Query_hyperthyroid','Lithium','Goitre','Tumor'\n",
    "                                  ,'Hypopituitary','Psych','TSH','T3','TT4','T4U','FTI','Class'])\n",
    "\n",
    "df_test = pd.DataFrame(testing_dataset,columns = ['Age','Sex','On_thyroxine','Query_on_thyroxine','On_antithyroid_medication','Sick','Pregnant','Thyroid_surgery','I131_treatment','Query_hypothyroid','Query_hyperthyroid','Lithium','Goitre','Tumor'\n",
    "                                  ,'Hypopituitary','Psych','TSH','T3','TT4','T4U','FTI','Class'])"
   ]
  },
  {
   "cell_type": "code",
   "execution_count": 3,
   "metadata": {},
   "outputs": [],
   "source": [
    "#DATA VISUALISATION"
   ]
  },
  {
   "cell_type": "code",
   "execution_count": 4,
   "metadata": {},
   "outputs": [],
   "source": [
    "columns=df.columns"
   ]
  },
  {
   "cell_type": "code",
   "execution_count": 5,
   "metadata": {},
   "outputs": [
    {
     "name": "stdout",
     "output_type": "stream",
     "text": [
      "(3772, 22)\n",
      "(3428, 22)\n"
     ]
    }
   ],
   "source": [
    "print(df.shape)\n",
    "print(df_test.shape)"
   ]
  },
  {
   "cell_type": "code",
   "execution_count": 6,
   "metadata": {},
   "outputs": [
    {
     "data": {
      "text/html": [
       "<div>\n",
       "<style scoped>\n",
       "    .dataframe tbody tr th:only-of-type {\n",
       "        vertical-align: middle;\n",
       "    }\n",
       "\n",
       "    .dataframe tbody tr th {\n",
       "        vertical-align: top;\n",
       "    }\n",
       "\n",
       "    .dataframe thead th {\n",
       "        text-align: right;\n",
       "    }\n",
       "</style>\n",
       "<table border=\"1\" class=\"dataframe\">\n",
       "  <thead>\n",
       "    <tr style=\"text-align: right;\">\n",
       "      <th></th>\n",
       "      <th>Age</th>\n",
       "      <th>Sex</th>\n",
       "      <th>On_thyroxine</th>\n",
       "      <th>Query_on_thyroxine</th>\n",
       "      <th>On_antithyroid_medication</th>\n",
       "      <th>Sick</th>\n",
       "      <th>Pregnant</th>\n",
       "      <th>Thyroid_surgery</th>\n",
       "      <th>I131_treatment</th>\n",
       "      <th>Query_hypothyroid</th>\n",
       "      <th>...</th>\n",
       "      <th>Goitre</th>\n",
       "      <th>Tumor</th>\n",
       "      <th>Hypopituitary</th>\n",
       "      <th>Psych</th>\n",
       "      <th>TSH</th>\n",
       "      <th>T3</th>\n",
       "      <th>TT4</th>\n",
       "      <th>T4U</th>\n",
       "      <th>FTI</th>\n",
       "      <th>Class</th>\n",
       "    </tr>\n",
       "  </thead>\n",
       "  <tbody>\n",
       "    <tr>\n",
       "      <td>count</td>\n",
       "      <td>3772</td>\n",
       "      <td>3772</td>\n",
       "      <td>3772</td>\n",
       "      <td>3772</td>\n",
       "      <td>3772</td>\n",
       "      <td>3772</td>\n",
       "      <td>3772</td>\n",
       "      <td>3772</td>\n",
       "      <td>3772</td>\n",
       "      <td>3772</td>\n",
       "      <td>...</td>\n",
       "      <td>3772</td>\n",
       "      <td>3772</td>\n",
       "      <td>3772</td>\n",
       "      <td>3772</td>\n",
       "      <td>3772</td>\n",
       "      <td>3772</td>\n",
       "      <td>3772</td>\n",
       "      <td>3772</td>\n",
       "      <td>3772</td>\n",
       "      <td>3772</td>\n",
       "    </tr>\n",
       "    <tr>\n",
       "      <td>unique</td>\n",
       "      <td>93</td>\n",
       "      <td>2</td>\n",
       "      <td>2</td>\n",
       "      <td>2</td>\n",
       "      <td>2</td>\n",
       "      <td>2</td>\n",
       "      <td>2</td>\n",
       "      <td>2</td>\n",
       "      <td>2</td>\n",
       "      <td>2</td>\n",
       "      <td>...</td>\n",
       "      <td>2</td>\n",
       "      <td>2</td>\n",
       "      <td>2</td>\n",
       "      <td>2</td>\n",
       "      <td>280</td>\n",
       "      <td>72</td>\n",
       "      <td>243</td>\n",
       "      <td>141</td>\n",
       "      <td>324</td>\n",
       "      <td>3</td>\n",
       "    </tr>\n",
       "    <tr>\n",
       "      <td>top</td>\n",
       "      <td>0.59</td>\n",
       "      <td>0</td>\n",
       "      <td>0</td>\n",
       "      <td>0</td>\n",
       "      <td>0</td>\n",
       "      <td>0</td>\n",
       "      <td>0</td>\n",
       "      <td>0</td>\n",
       "      <td>0</td>\n",
       "      <td>0</td>\n",
       "      <td>...</td>\n",
       "      <td>0</td>\n",
       "      <td>0</td>\n",
       "      <td>0</td>\n",
       "      <td>0</td>\n",
       "      <td>0.00189</td>\n",
       "      <td>0.0206</td>\n",
       "      <td>0.11118</td>\n",
       "      <td>0.099</td>\n",
       "      <td>0.11207</td>\n",
       "      <td>3</td>\n",
       "    </tr>\n",
       "    <tr>\n",
       "      <td>freq</td>\n",
       "      <td>95</td>\n",
       "      <td>2629</td>\n",
       "      <td>3307</td>\n",
       "      <td>3723</td>\n",
       "      <td>3729</td>\n",
       "      <td>3627</td>\n",
       "      <td>3719</td>\n",
       "      <td>3718</td>\n",
       "      <td>3715</td>\n",
       "      <td>3538</td>\n",
       "      <td>...</td>\n",
       "      <td>3739</td>\n",
       "      <td>3677</td>\n",
       "      <td>3771</td>\n",
       "      <td>3586</td>\n",
       "      <td>367</td>\n",
       "      <td>717</td>\n",
       "      <td>223</td>\n",
       "      <td>455</td>\n",
       "      <td>220</td>\n",
       "      <td>3488</td>\n",
       "    </tr>\n",
       "  </tbody>\n",
       "</table>\n",
       "<p>4 rows × 22 columns</p>\n",
       "</div>"
      ],
      "text/plain": [
       "         Age   Sex On_thyroxine Query_on_thyroxine On_antithyroid_medication  \\\n",
       "count   3772  3772         3772               3772                      3772   \n",
       "unique    93     2            2                  2                         2   \n",
       "top     0.59     0            0                  0                         0   \n",
       "freq      95  2629         3307               3723                      3729   \n",
       "\n",
       "        Sick Pregnant Thyroid_surgery I131_treatment Query_hypothyroid  ...  \\\n",
       "count   3772     3772            3772           3772              3772  ...   \n",
       "unique     2        2               2              2                 2  ...   \n",
       "top        0        0               0              0                 0  ...   \n",
       "freq    3627     3719            3718           3715              3538  ...   \n",
       "\n",
       "       Goitre Tumor Hypopituitary Psych      TSH      T3      TT4    T4U  \\\n",
       "count    3772  3772          3772  3772     3772    3772     3772   3772   \n",
       "unique      2     2             2     2      280      72      243    141   \n",
       "top         0     0             0     0  0.00189  0.0206  0.11118  0.099   \n",
       "freq     3739  3677          3771  3586      367     717      223    455   \n",
       "\n",
       "            FTI Class  \n",
       "count      3772  3772  \n",
       "unique      324     3  \n",
       "top     0.11207     3  \n",
       "freq        220  3488  \n",
       "\n",
       "[4 rows x 22 columns]"
      ]
     },
     "execution_count": 6,
     "metadata": {},
     "output_type": "execute_result"
    }
   ],
   "source": [
    "df.describe()"
   ]
  },
  {
   "cell_type": "code",
   "execution_count": 7,
   "metadata": {},
   "outputs": [],
   "source": [
    "#MAKING ATTRIBUTES NUMERICA BY CONVERTING DATA TYPE\n",
    "for i in range(len(columns)):\n",
    "    if(i==0 or i==16 or i==17 or i==18 or i==19 or i==20 ):\n",
    "        df[columns[i]]=df[columns[i]].astype(\"float\")\n",
    "        df_test[columns[i]]=df_test[columns[i]].astype(\"float\")\n",
    "        \n",
    "    else:\n",
    "        df[columns[i]]=df[columns[i]].astype(\"int\")\n",
    "        df_test[columns[i]]=df_test[columns[i]].astype(\"int\")"
   ]
  },
  {
   "cell_type": "code",
   "execution_count": 8,
   "metadata": {},
   "outputs": [
    {
     "data": {
      "text/plain": [
       "Age                          float64\n",
       "Sex                            int64\n",
       "On_thyroxine                   int64\n",
       "Query_on_thyroxine             int64\n",
       "On_antithyroid_medication      int64\n",
       "Sick                           int64\n",
       "Pregnant                       int64\n",
       "Thyroid_surgery                int64\n",
       "I131_treatment                 int64\n",
       "Query_hypothyroid              int64\n",
       "Query_hyperthyroid             int64\n",
       "Lithium                        int64\n",
       "Goitre                         int64\n",
       "Tumor                          int64\n",
       "Hypopituitary                  int64\n",
       "Psych                          int64\n",
       "TSH                          float64\n",
       "T3                           float64\n",
       "TT4                          float64\n",
       "T4U                          float64\n",
       "FTI                          float64\n",
       "Class                          int64\n",
       "dtype: object"
      ]
     },
     "execution_count": 8,
     "metadata": {},
     "output_type": "execute_result"
    }
   ],
   "source": [
    "df.dtypes"
   ]
  },
  {
   "cell_type": "code",
   "execution_count": 9,
   "metadata": {},
   "outputs": [
    {
     "data": {
      "text/plain": [
       "Age                          0\n",
       "Sex                          0\n",
       "On_thyroxine                 0\n",
       "Query_on_thyroxine           0\n",
       "On_antithyroid_medication    0\n",
       "Sick                         0\n",
       "Pregnant                     0\n",
       "Thyroid_surgery              0\n",
       "I131_treatment               0\n",
       "Query_hypothyroid            0\n",
       "Query_hyperthyroid           0\n",
       "Lithium                      0\n",
       "Goitre                       0\n",
       "Tumor                        0\n",
       "Hypopituitary                0\n",
       "Psych                        0\n",
       "TSH                          0\n",
       "T3                           0\n",
       "TT4                          0\n",
       "T4U                          0\n",
       "FTI                          0\n",
       "Class                        0\n",
       "dtype: int64"
      ]
     },
     "execution_count": 9,
     "metadata": {},
     "output_type": "execute_result"
    }
   ],
   "source": [
    "#CHECKING FOR NULL VALUES\n",
    "df.isnull().sum()"
   ]
  },
  {
   "cell_type": "code",
   "execution_count": 12,
   "metadata": {},
   "outputs": [
    {
     "data": {
      "text/plain": [
       "<matplotlib.axes._subplots.AxesSubplot at 0x119099310>"
      ]
     },
     "execution_count": 12,
     "metadata": {},
     "output_type": "execute_result"
    },
    {
     "data": {
      "image/png": "[encoded data removed]",
      "text/plain": [
       "<Figure size 432x288 with 1 Axes>"
      ]
     },
     "metadata": {
      "needs_background": "light"
     },
     "output_type": "display_data"
    }
   ],
   "source": [
    "#VISUALISING CLASS DISTRIBUTION\n",
    "import seaborn as sns\n",
    "import matplotlib.pyplot as plt\n",
    "sns.countplot(df['Class'],palette='rocket')"
   ]
  },
  {
   "cell_type": "code",
   "execution_count": 11,
   "metadata": {},
   "outputs": [
    {
     "data": {
      "text/plain": [
       "<matplotlib.axes._subplots.AxesSubplot at 0x118ede750>"
      ]
     },
     "execution_count": 11,
     "metadata": {},
     "output_type": "execute_result"
    },
    {
     "data": {
      "image/png": "[encoded data removed]",
      "text/plain": [
       "<Figure size 432x288 with 1 Axes>"
      ]
     },
     "metadata": {
      "needs_background": "light"
     },
     "output_type": "display_data"
    }
   ],
   "source": [
    "sns.countplot(df_test['Class'],palette='rocket')"
   ]
  },
  {
   "cell_type": "code",
   "execution_count": 13,
   "metadata": {},
   "outputs": [
    {
     "data": {
      "text/plain": [
       "<matplotlib.colorbar.Colorbar at 0x1192ac550>"
      ]
     },
     "execution_count": 13,
     "metadata": {},
     "output_type": "execute_result"
    },
    {
     "data": {
      "image/png": "[encoded data removed]",
      "text/plain": [
       "<Figure size 1152x1152 with 2 Axes>"
      ]
     },
     "metadata": {
      "needs_background": "light"
     },
     "output_type": "display_data"
    }
   ],
   "source": [
    "from matplotlib import rcParams\n",
    "import numpy as np\n",
    "rcParams['figure.figsize'] = 2,20\n",
    "a=df.corr()\n",
    "plt.matshow(df.corr(),cmap=\"Spectral\")\n",
    "plt.yticks(np.arange(df.shape[1]), df.columns)\n",
    "plt.xticks(np.arange(df.shape[1]), df.columns,rotation=45)\n",
    "\n",
    "plt.colorbar()\n",
    "\n",
    "#very less correlation so we can say that no data is related with each other\n",
    "#given value of one feature we cannot predict any other feature\n",
    "#although there is some relation between T3, TT4 and FTI"
   ]
  },
  {
   "cell_type": "code",
   "execution_count": 14,
   "metadata": {},
   "outputs": [
    {
     "name": "stdout",
     "output_type": "stream",
     "text": [
      "[[ 0.55236367 -1.43478847]\n",
      " [ 1.7185296   1.5361572 ]\n",
      " [ 0.21348247  1.27250869]\n",
      " ...\n",
      " [-0.88379323  0.2301124 ]\n",
      " [-0.20377907 -1.20166981]\n",
      " [-0.29431663 -0.1454486 ]]\n"
     ]
    }
   ],
   "source": [
    "from sklearn.decomposition import PCA\n",
    "from sklearn.preprocessing import StandardScaler\n",
    "scalar = StandardScaler() \n",
    "scalar.fit(df) \n",
    "scaled_df = scalar.transform(df) \n",
    "\n",
    "p = PCA(n_components = 2) \n",
    "p.fit(scaled_df) \n",
    "x_axis = p.transform(scaled_df) \n",
    "x_std=p.fit_transform(scaled_df)\n",
    "x_std.shape\n",
    "print(x_std)"
   ]
  },
  {
   "cell_type": "code",
   "execution_count": 15,
   "metadata": {},
   "outputs": [
    {
     "data": {
      "image/png": "[encoded data removed]",
      "text/plain": [
       "<Figure size 576x432 with 1 Axes>"
      ]
     },
     "metadata": {
      "needs_background": "light"
     },
     "output_type": "display_data"
    }
   ],
   "source": [
    "plt.figure(figsize =(8, 6)) \n",
    "scatter=plt.scatter(x_axis[:, 0], x_axis[:, 1], c = df['Class'], cmap ='cool') \n",
    "labels=np.unique(df['Class'])\n",
    "handles = [plt.Line2D([],[],color=scatter.cmap(scatter.norm(yi))) for yi in labels]\n",
    "plt.legend(handles, labels)\n",
    "  \n",
    "# labeling x and y axes \n",
    "plt.xlabel('First Principal Component') \n",
    "\n",
    "plt.ylabel('Second Principal Component')\n",
    "\n",
    "plt.show()"
   ]
  },
  {
   "cell_type": "code",
   "execution_count": 16,
   "metadata": {},
   "outputs": [],
   "source": [
    "#Normalise the data\n",
    "from sklearn.preprocessing import StandardScaler\n",
    "sc_X = StandardScaler()\n",
    "X_train = sc_X.fit_transform(df.iloc[:,0:21])\n",
    "test_normalised=sc_X.fit_transform(df_test.iloc[:,0:21])"
   ]
  },
  {
   "cell_type": "code",
   "execution_count": 17,
   "metadata": {},
   "outputs": [],
   "source": [
    "#ENCOING THE LABELS FOR KERAS\n",
    "def one_hot_encode(labels):\n",
    "    n_labels=len(labels)\n",
    "    n_unique_labels=len(np.unique(labels))\n",
    "    one_hot_encode=np.zeros((n_labels,n_unique_labels))\n",
    "    one_hot_encode[np.arange(n_labels),labels]=1\n",
    "    return one_hot_encode\n",
    "    "
   ]
  },
  {
   "cell_type": "code",
   "execution_count": 18,
   "metadata": {},
   "outputs": [],
   "source": [
    "from sklearn.preprocessing import LabelEncoder\n",
    "encoder=LabelEncoder()"
   ]
  },
  {
   "cell_type": "code",
   "execution_count": 19,
   "metadata": {},
   "outputs": [],
   "source": [
    "#SELECTING TOP 5 FEATURES\n",
    "new_columns=['TSH','T3','TT4','T4U','FTI','Class']\n",
    "df_train=df[new_columns]\n",
    "df_test_new=df_test[new_columns]\n"
   ]
  },
  {
   "cell_type": "code",
   "execution_count": 20,
   "metadata": {},
   "outputs": [],
   "source": [
    "#NORMALIZATION\n",
    "from sklearn.preprocessing import StandardScaler\n",
    "sc_X = StandardScaler()\n",
    "X_train = sc_X.fit_transform(df_train.iloc[:,0:5])\n",
    "y_train=df_train['Class']\n",
    "sc_X = StandardScaler()\n",
    "X_test = sc_X.fit_transform(df_test_new.iloc[:,0:5])\n",
    "y_test=df_test_new['Class']\n",
    "\n"
   ]
  },
  {
   "cell_type": "code",
   "execution_count": 21,
   "metadata": {},
   "outputs": [],
   "source": [
    "#IMPORTING THE REQUIRED LIBRARIES\n",
    "from sklearn.ensemble import RandomForestClassifier\n",
    "from sklearn.calibration import CalibratedClassifierCV\n",
    "from sklearn.ensemble import AdaBoostClassifier\n",
    "from sklearn.neighbors import KNeighborsClassifier\n",
    "from sklearn.naive_bayes import GaussianNB\n",
    "from sklearn.metrics import accuracy_score\n",
    "from sklearn.model_selection import StratifiedKFold\n",
    "from sklearn.metrics import precision_score\n",
    "from sklearn.metrics import recall_score\n",
    "from sklearn.metrics import f1_score\n",
    "from sklearn.metrics import roc_auc_score\n",
    "\n"
   ]
  },
  {
   "cell_type": "code",
   "execution_count": null,
   "metadata": {},
   "outputs": [],
   "source": [
    "#KNN CLASSIFIER SELECTING VALUE OF K\n",
    "\n",
    "seed=7\n",
    "X=X_train\n",
    "y=y_train\n",
    "kfold = StratifiedKFold(n_splits=10, shuffle=True, random_state=seed)\n",
    "acc_train=[]\n",
    "acc_val=[]\n",
    "for i in range(10):\n",
    "    \n",
    "    acc_train.append(0)\n",
    "    acc_val.append(0)\n",
    "    \n",
    "for k in range(0,10):\n",
    "    print(k)\n",
    "    clf_knn = KNeighborsClassifier(n_neighbors=k+1)\n",
    "    \n",
    "    for train, test in kfold.split(X,y):\n",
    "        clf_knn=clf_knn.fit(X[train,:],y[train])\n",
    "\n",
    "\n",
    "        y_pred = clf_knn.predict(X[test,:])\n",
    "        knn_train=clf_knn.score(X[train,:],y[train])\n",
    "        knn_test= accuracy_score(y[test],y_pred)\n",
    "        print('KNN accuracy for training data', knn_train)\n",
    "        print('KNN accuracy for validation data',knn_test)\n",
    "        acc_train[k]=acc_train[k]+knn_train\n",
    "        acc_val[k]+=knn_test\n",
    "\n",
    "        \n",
    "\n"
   ]
  },
  {
   "cell_type": "code",
   "execution_count": null,
   "metadata": {},
   "outputs": [],
   "source": [
    "for i in range(10):\n",
    "    \n",
    "    acc_train[i]*=10\n",
    "    \n",
    "    acc_val[i]*=10"
   ]
  },
  {
   "cell_type": "code",
   "execution_count": null,
   "metadata": {},
   "outputs": [],
   "source": [
    "print(acc_train)\n",
    "print(acc_val)"
   ]
  },
  {
   "cell_type": "code",
   "execution_count": null,
   "metadata": {},
   "outputs": [],
   "source": [
    "import matplotlib.pyplot as plt\n",
    "plt.plot([1,2,3,4,5,6,7,8,9,10],acc_train,label=\"Training accuracy\")\n",
    "plt.plot([1,2,3,4,5,6,7,8,9,10],acc_val,color='red',label=\"Validation accuracy\")\n",
    "plt.xlabel(\"k\")\n",
    "plt.ylabel(\"Accuracy\")\n",
    "plt.title(\"Training and Validation Accuracy for Different Values of k in KNN Classifier\")\n",
    "plt.legend()\n",
    "plt.show()"
   ]
  },
  {
   "cell_type": "code",
   "execution_count": null,
   "metadata": {},
   "outputs": [],
   "source": [
    "#Training the model with k=8\n",
    "X=X_train\n",
    "y=y_train\n",
    "avg_acc_train=[]\n",
    "avg_acc_validation=[]\n",
    "clf_knn = KNeighborsClassifier(n_neighbors=8)\n",
    "seed=7\n",
    "kfold = StratifiedKFold(n_splits=10, shuffle=True, random_state=seed)\n",
    "for train, test in kfold.split(X,y):\n",
    "    clf_knn=clf_knn.fit(X[train,:],y[train])\n",
    "    y_pred = clf_knn.predict(X[test,:])\n",
    "    knn_train=clf_knn.score(X[train,:],y[train])\n",
    "    knn_test= accuracy_score(y[test],y_pred)\n",
    "    print('KNN accuracy for training data', knn_train)\n",
    "    print('KNN accuracy for validation data',knn_test)\n",
    "    avg_acc_train.append(knn_train)\n",
    "    avg_acc_validation.append(knn_test)\n",
    "    \n",
    "sum_train=0\n",
    "sum_val=0\n",
    "for i in range(10):\n",
    "    sum_train+=avg_acc_train[i]\n",
    "    sum_val+=avg_acc_validation[i]\n",
    "avg_train=sum_train/10\n",
    "avg_val=sum_val/10\n",
    "print(\"KNN avg training acc is \",avg_train)\n",
    "print(\"KNN avg testing acc is \",avg_val)\n",
    "    \n",
    "\n"
   ]
  },
  {
   "cell_type": "code",
   "execution_count": null,
   "metadata": {},
   "outputs": [],
   "source": [
    "#TESTING AND EVALUATIONG THE MODEL\n",
    "y_pred = clf_knn.predict(X_test)\n",
    "acc_test= accuracy_score(y_test,y_pred)\n",
    "p=precision_score(y_test,y_pred,average=\"weighted\")\n",
    "r=recall_score(y_test,y_pred,average=\"weighted\")\n",
    "f1=f1_score(y_test,y_pred,average=\"weighted\")\n",
    "\n"
   ]
  },
  {
   "cell_type": "code",
   "execution_count": null,
   "metadata": {},
   "outputs": [],
   "source": [
    "print(\"Accuracy for KNN at k=8 is \",acc_test)\n",
    "print(\"Precision for KNN at k=8 is \",p)\n",
    "print(\"Recall for KNN at k=8 is \",r)\n",
    "print(\"F1-Score for KNN at k=8 is \",f1)\n",
    "\n",
    "\n",
    "\n"
   ]
  },
  {
   "cell_type": "code",
   "execution_count": null,
   "metadata": {},
   "outputs": [],
   "source": [
    "#DECISION TREE CLASSIFIER SELECTING HEIGHT PARAMETER\n",
    "from sklearn.tree import DecisionTreeClassifier\n",
    "seed=7\n",
    "kfold = StratifiedKFold(n_splits=10, shuffle=True, random_state=seed)\n",
    "X=X_train\n",
    "y=y_train\n",
    "acc_train=[]\n",
    "acc_validation=[]\n",
    "for i in range(15):\n",
    "    acc_train.append(0)\n",
    "    acc_validation.append(0)\n",
    "    \n",
    "for h in range(1,16,1):\n",
    "    descision_clf=DecisionTreeClassifier(criterion = \"entropy\", random_state = 1, max_depth = h)\n",
    "    for train, test in kfold.split(X,y):\n",
    "        descision_clf=descision_clf.fit(X[train,:],y[train])\n",
    "        y_pred_dt = descision_clf.predict(X[test,:])\n",
    "        dt_train=descision_clf.score(X[train,:],y[train])\n",
    "        dt_test= accuracy_score(y_train[test],y_pred_dt)\n",
    "        acc_train[h-1]+=dt_train\n",
    "        acc_validation[h-1]+=dt_test\n",
    "        \n",
    "for i in range(15):\n",
    "    acc_train[i]/=10\n",
    "    acc_validation[i]/=10\n",
    "\n",
    "    \n",
    "\n"
   ]
  },
  {
   "cell_type": "code",
   "execution_count": null,
   "metadata": {},
   "outputs": [],
   "source": [
    "print(acc_train)\n",
    "print(acc_validation)"
   ]
  },
  {
   "cell_type": "code",
   "execution_count": null,
   "metadata": {},
   "outputs": [],
   "source": [
    "import matplotlib.pyplot as plt\n",
    "plt.plot([1,2,3,4,5,6,7,8,9,10,11,12,13,14,15],acc_train,label=\"Training accuracy\")\n",
    "plt.plot([1,2,3,4,5,6,7,8,9,10,11,12,13,14,15],acc_validation,color='red',label=\"Validation Accuracy\")\n",
    "plt.xlabel(\"Height of DT\")\n",
    "plt.ylabel(\"Accuracy\")\n",
    "plt.title(\"Accuracy of DT Classifier for Different Heights\")\n",
    "plt.legend()\n",
    "plt.show()"
   ]
  },
  {
   "cell_type": "code",
   "execution_count": null,
   "metadata": {},
   "outputs": [],
   "source": [
    "#Training the DT Model with ht 3\n",
    "X=X_train\n",
    "y=y_train\n",
    "avg_acc_train=[]\n",
    "avg_acc_validation=[]\n",
    "descision_clf=DecisionTreeClassifier(criterion = \"entropy\", random_state = 1, max_depth = 3)\n",
    "seed=7\n",
    "kfold = StratifiedKFold(n_splits=10, shuffle=True, random_state=seed)\n",
    "for train, test in kfold.split(X,y):\n",
    "    descision_clf=descision_clf.fit(X[train,:],y[train])\n",
    "    y_pred = descision_clf.predict(X[test,:])\n",
    "    dt_train=descision_clf.score(X[train,:],y[train])\n",
    "    dt_test= accuracy_score(y[test],y_pred)\n",
    "    print('DT accuracy for training data', dt_train)\n",
    "    print('DT accuracy for validation data',dt_test)\n",
    "    avg_acc_train.append(dt_train)\n",
    "    avg_acc_validation.append(dt_test)\n",
    "    \n",
    "sum_train=0\n",
    "sum_val=0\n",
    "for i in range(10):\n",
    "    sum_train+=avg_acc_train[i]\n",
    "    sum_val+=avg_acc_validation[i]\n",
    "avg_train=sum_train/10\n",
    "avg_val=sum_val/10\n",
    "print(\"DT avg training acc is \",avg_train)\n",
    "print(\"DT avg validation acc is \",avg_val)\n",
    "    "
   ]
  },
  {
   "cell_type": "code",
   "execution_count": null,
   "metadata": {},
   "outputs": [],
   "source": [
    "#TESTING AND EVALUATING THE MODEL\n",
    "y_pred = descision_clf.predict(X_test)\n",
    "acc_test= accuracy_score(y_test,y_pred)\n",
    "p=precision_score(y_test,y_pred,average=\"weighted\")\n",
    "r=recall_score(y_test,y_pred,average=\"weighted\")\n",
    "f1=f1_score(y_test,y_pred,average=\"weighted\")"
   ]
  },
  {
   "cell_type": "code",
   "execution_count": null,
   "metadata": {},
   "outputs": [],
   "source": [
    "print(\"Accuracy for DT with ht=3 is \",acc_test)\n",
    "print(\"Precision for DT with ht=3 is \",p)\n",
    "print(\"Recall for DT with ht=3 is \",r)\n",
    "print(\"F1-Score for DT with ht=3 is \",f1)"
   ]
  },
  {
   "cell_type": "code",
   "execution_count": null,
   "metadata": {},
   "outputs": [],
   "source": [
    "#STORING THE MODEL FOR UI\n",
    "import pickle\n",
    "pickle.dump( descision_clf, open(\"model.pkl\",\"wb\"))"
   ]
  },
  {
   "cell_type": "code",
   "execution_count": null,
   "metadata": {},
   "outputs": [],
   "source": [
    "#TRAINING THE NB CLASSIFIER\n",
    "clf_nb = GaussianNB()\n",
    "avg_acc_train=[]\n",
    "avg_acc_validation=[]\n",
    "for train, test in kfold.split(X,y):\n",
    "    clf_nb=clf_nb.fit(X[train,:],y[train])\n",
    "    y_pred_nb = clf_nb.predict(X[test,:])\n",
    "    nb_train=clf_nb.score(X[train,:],y[train])\n",
    "    nb_test= accuracy_score(y[test],y_pred_nb)\n",
    "    avg_acc_train.append(nb_train)\n",
    "    avg_acc_validation.append(nb_test)\n",
    "sum_train=0\n",
    "sum_validation=0\n",
    "for i in range(10):\n",
    "    sum_train+=avg_acc_train[i]\n",
    "    sum_validation+=avg_acc_validation[i]\n",
    "avg_train=sum_train/10\n",
    "avg_validation=sum_validation/10\n",
    "print(\"Avg training accuracy of NB is \",avg_train)\n",
    "print(\"Avg validation accuracy of NB is \",avg_validation)\n",
    "\n",
    "\n",
    "\n"
   ]
  },
  {
   "cell_type": "code",
   "execution_count": null,
   "metadata": {},
   "outputs": [],
   "source": [
    "#TESTING AND EVALUATING THE MODEL\n",
    "y_pred = clf_nb.predict(X_test)\n",
    "acc_test= accuracy_score(y_test,y_pred)\n",
    "p=precision_score(y_test,y_pred,average=\"weighted\")\n",
    "r=recall_score(y_test,y_pred,average=\"weighted\")\n",
    "f1=f1_score(y_test,y_pred,average=\"weighted\")\n"
   ]
  },
  {
   "cell_type": "code",
   "execution_count": null,
   "metadata": {},
   "outputs": [],
   "source": [
    "print(\"Accuracy for NB is \",acc_test)\n",
    "print(\"Precision for NB is \",p)\n",
    "print(\"Recall for NB is \",r)\n",
    "print(\"F1-Score for NB is \",f1)"
   ]
  },
  {
   "cell_type": "code",
   "execution_count": null,
   "metadata": {},
   "outputs": [],
   "source": [
    "#MLP CLASSIFIER\n",
    "from sklearn.neural_network import MLPClassifier\n",
    "clf_mlp = MLPClassifier(solver='lbfgs', alpha=1e-5,hidden_layer_sizes=(5, 2), random_state=1)\n",
    "\n",
    "avg_acc_train=[]\n",
    "avg_acc_validation=[]\n",
    "\n",
    "for train, test in kfold.split(X,y):\n",
    "    \n",
    "    clf_mlp=clf_mlp.fit(X[train,:],y[train])\n",
    "    y_pred_mlp = clf_mlp.predict(X[test,:])\n",
    "    mlp_train=clf_mlp.score(X[train,:],y[train])\n",
    "    mlp_test= accuracy_score(y[test],y_pred_mlp)\n",
    "    avg_acc_train.append(mlp_train)\n",
    "    avg_acc_validation.append(mlp_test)\n",
    "sum_train=0\n",
    "sum_validation=0\n",
    "for i in range(10):\n",
    "    sum_train+=avg_acc_train[i]\n",
    "    sum_validation+=avg_acc_validation[i]\n",
    "avg_train=sum_train/10\n",
    "avg_validation=sum_validation/10\n",
    "print(\"Avg training accuracy of MLP is \",avg_train)\n",
    "print(\"Avg validation accuracy of MLP is \",avg_validation)\n",
    "\n",
    "\n"
   ]
  },
  {
   "cell_type": "code",
   "execution_count": null,
   "metadata": {},
   "outputs": [],
   "source": [
    "#TESTING AND EVALUATING THE MODEL\n",
    "y_pred = clf_mlp.predict(X_test)\n",
    "acc_test= accuracy_score(y_test,y_pred)\n",
    "p=precision_score(y_test,y_pred,average=\"weighted\")\n",
    "r=recall_score(y_test,y_pred,average=\"weighted\")\n",
    "f1=f1_score(y_test,y_pred,average=\"weighted\")"
   ]
  },
  {
   "cell_type": "code",
   "execution_count": null,
   "metadata": {},
   "outputs": [],
   "source": [
    "print(\"Accuracy for MLP is \",acc_test)\n",
    "print(\"Precision for MLP is \",p)\n",
    "print(\"Recall for MLP is \",r)\n",
    "print(\"F1-Score for MLP is \",f1)"
   ]
  },
  {
   "cell_type": "code",
   "execution_count": 23,
   "metadata": {},
   "outputs": [
    {
     "name": "stdout",
     "output_type": "stream",
     "text": [
      "(3772,)\n",
      "accuracy: 97.09%\n",
      "accuracy: 96.42%\n",
      "accuracy: 97.88%\n",
      "accuracy: 96.95%\n",
      "accuracy: 96.81%\n"
     ]
    }
   ],
   "source": [
    "#TRAINING THE KERAS MODEL\n",
    "import numpy as np\n",
    "from keras.models import Sequential\n",
    "from keras.layers import Dense, Dropout\n",
    "from sklearn.model_selection import train_test_split\n",
    "from sklearn.model_selection import StratifiedKFold\n",
    "seed = 7\n",
    "np.random.seed(seed)\n",
    "kfold = StratifiedKFold(n_splits=5, shuffle=True, random_state=seed)\n",
    "cvscores = []\n",
    "X=X_train\n",
    "y=y_train\n",
    "print(y.shape)\n",
    "iteration=1\n",
    "for train, test in kfold.split(X,y):\n",
    "    if(iteration==1):\n",
    "        encoder.fit(y)\n",
    "        y=encoder.transform(y)\n",
    "        y=one_hot_encode(y)\n",
    "    model = Sequential()\n",
    "    model.add(Dense(100, input_dim=5, activation='relu'))\n",
    "    model.add(Dense(100, activation='relu'))\n",
    "    model.add(Dropout(0.2))\n",
    "    model.add(Dense(100, activation='relu'))\n",
    "    model.add(Dropout(0.5))\n",
    "    model.add(Dense(3, activation='sigmoid'))\n",
    "    model.compile(optimizer='adam',loss='categorical_crossentropy', metrics=['accuracy'])\n",
    "    # Fit the model\n",
    "    model.fit(X[train,:], y[train], epochs=150, batch_size=16, verbose=0)\n",
    "    # evaluate the model\n",
    "    scores = model.evaluate(X[test,:], y[test], verbose=0)\n",
    "    print(\"%s: %.2f%%\" % (model.metrics_names[1], scores[1]*100))\n",
    "    cvscores.append(scores[1] * 100)\n",
    "    iteration=iteration+1"
   ]
  },
  {
   "cell_type": "code",
   "execution_count": null,
   "metadata": {},
   "outputs": [],
   "source": []
  }
 ],
 "metadata": {
  "kernelspec": {
   "display_name": "Python 3",
   "language": "python",
   "name": "python3"
  },
  "language_info": {
   "codemirror_mode": {
    "name": "ipython",
    "version": 3
   },
   "file_extension": ".py",
   "mimetype": "text/x-python",
   "name": "python",
   "nbconvert_exporter": "python",
   "pygments_lexer": "ipython3",
   "version": "3.7.4"
  }
 },
 "nbformat": 4,
 "nbformat_minor": 2
}
